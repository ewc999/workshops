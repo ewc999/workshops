{
 "cells": [
  {
   "cell_type": "markdown",
   "metadata": {},
   "source": [
    "# HKN Maker Workshop"
   ]
  },
  {
   "cell_type": "markdown",
   "metadata": {},
   "source": [
    "## Welcome\n",
    "\n",
    "This iPython notebook should teach you the basics of programming in python and using python for image manipulation and Turtle Graphics! If you have any questions, don't be afraid to ask! We don't byte, I swear (<a href=\"https://simple.wikipedia.org/wiki/Byte\">Pun entirely intended</a>). First, we'll introduce the basics of iPython to get you up and running. Then at the end we'll give you lots of ideas for projects you can do.\n",
    "\n",
    "iPython code is written in cells which you can run individually, but data from one can be used in another. First, locate this set of buttons in the toolbar above:\n",
    "\n",
    "To run a cell, click on the cell so it's highlighted green, then click the leftmost button in that group, the \"Run Cell\" button. Try this on the code cell below:"
   ]
  },
  {
   "cell_type": "code",
   "execution_count": null,
   "metadata": {
    "collapsed": true
   },
   "outputs": [],
   "source": []
  },
  {
   "cell_type": "code",
   "execution_count": null,
   "metadata": {
    "collapsed": true
   },
   "outputs": [],
   "source": []
  }
 ],
 "metadata": {
  "kernelspec": {
   "display_name": "Python 3",
   "language": "python",
   "name": "python3"
  },
  "language_info": {
   "codemirror_mode": {
    "name": "ipython",
    "version": 3
   },
   "file_extension": ".py",
   "mimetype": "text/x-python",
   "name": "python",
   "nbconvert_exporter": "python",
   "pygments_lexer": "ipython3",
   "version": "3.6.1"
  }
 },
 "nbformat": 4,
 "nbformat_minor": 2
}
