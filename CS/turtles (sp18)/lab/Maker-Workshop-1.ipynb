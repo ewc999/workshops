{
 "cells": [
  {
   "cell_type": "markdown",
   "metadata": {},
   "source": [
    "# Welcome to Maker Workshop #1!"
   ]
  },
  {
   "cell_type": "markdown",
   "metadata": {},
   "source": [
    "In this workshop, we'll be learning some CS fundamentals with the help of iPython (this webpage) and Turtle Graphics! If you have any questions, don't be afraid to ask! We don't byte, I swear. (<a href=\"https://simple.wikipedia.org/wiki/Byte\">pun entirely intended</a>)\n",
    "\n",
    "First, we'll introduce the basics of iPython to get you up and running. iPython code is written in cells which you can run individually, but data from one can be used in another. First, locate this set of buttons in the toolbar above:\n",
    "\n",
    "<img src=\"toolbar.png\" width=\"130px\" style=\"float: left\"/> <br><br><br>\n",
    "\n",
    "To run a cell, click on a cell with code in it so the bar on the left next to that cell is highlighted green, then click the leftmost button in that group, the \"Run Cell\" button. Try this on the code cell below:"
   ]
  },
  {
   "cell_type": "code",
   "execution_count": null,
   "metadata": {
    "collapsed": true
   },
   "outputs": [],
   "source": [
    "# This is a code cell! You can click here to edit Python code (although there isn't anything to do here),\n",
    "# then click on the \"Run\" button above to run it.\n",
    "\n",
    "print(\"Hello, world!\")"
   ]
  },
  {
   "cell_type": "markdown",
   "metadata": {},
   "source": [
    "#### Woah, that did a thing!\n",
    "\n",
    "`print()` displays the message between the parentheses below the code cell. `print()` statements are very useful, as you'll soon see. You'll also soon see why the message is in quotes.\n",
    "\n",
    "And Python can do many more things, as we'll see shortly. First, though, there are two more buttons in the toolbar group above. You shouldn't need the rightmost one, but the center one (with the square) may be helpful. This is the \"Stop Cell\" button, and it can be used to, oddly enough, stop a cell from running. If you're tired of a cell running, you can click on the offending cell then click this button to stop it. We won't demonstrate it here, but it's there if you need it.\n",
    "\n",
    "Even if a cell doesn't have any code for you to write or edit, you should run it anyway! Later parts may depend on code from earlier parts..."
   ]
  },
  {
   "cell_type": "markdown",
   "metadata": {},
   "source": [
    "## A brief introduction to Python...\n",
    "\n",
    "<img src=\"python-logo.png\" width=\"200px\" style=\"float: left\"/><br><br><br>\n",
    "\n",
    "We're probably getting a bit ahead of ourselves here. First, **what is Python?**\n",
    "\n",
    "Python is a popular <b>programming language</b>, which means it allows you to tell a computer <i>exactly</i> what to do with special text called code. Although Python is only one of many such programming languages, it's very similar to a lot of others, so whatever you learn in Python can easily be transferred to other languages. Other popular programming languages include Java, C, and JavaScript.\n",
    "\n",
    "<i>iPython</i>, on the other hand, is just an environment for running Python in a web browser, with text and graphics along with the code (as we're including here). As a result, learning coding in iPython means you're actually just learning Python!\n",
    "<br>\n",
    "\n",
    "## Comments: a short digression\n",
    "\n",
    "Additionally, we should introduce <b>comments,</b> which you may have noticed above. Anything after a hashtag (<b>#</b>) in a line of Python code isn't actually run; it's just there as a note by the programmer. These are really useful to document what code does in-line with the code itself, and using them is considered <i>really</i> good coding practice."
   ]
  },
  {
   "cell_type": "markdown",
   "metadata": {},
   "source": [
    "## Let's get started: variables\n",
    "\n",
    "We're going to jump right into <b>variables.</b> Much like in algebra, variables in programming allow us to put a placeholder in our code to \"stand-in\" for a value. Unlike in algebra, however, variables in programming can stand in for much more than just numbers, like strings of text (called <b>strings,</b> oddly enough) and much more!\n",
    "\n",
    "Variables in Python are defined with an equals sign, with the name of the variable on the left and the initial value on the right.\n",
    "\n",
    "Fill in the variables in the code cell below by replacing the written values to the right of the equals sign with your own answers!"
   ]
  },
  {
   "cell_type": "code",
   "execution_count": null,
   "metadata": {
    "collapsed": true
   },
   "outputs": [],
   "source": [
    "# Fill in your first and last name below by replacing FirstName and LastName\n",
    "# These are string types, and when you type string values they're surrounded with quotes\n",
    "first_name = \"FirstName\"\n",
    "last_name = \"LastName\"\n",
    "\n",
    "# Strings can be combined using the + operator\n",
    "# This is called string concatenation\n",
    "full_name = first_name + \" \" + last_name\n",
    "\n",
    "# While we're at it, what's your favorite color?\n",
    "favorite_color = \"Color\"\n",
    "\n",
    "# Now, what's your favorite number?\n",
    "# This is a number type. Notice it doesn't have quotes? Numbers don't have them.\n",
    "favorite_number = 0\n",
    "\n",
    "# Is this lab cool?\n",
    "# This is called a boolean type, it can either be True or False\n",
    "# The correct answer here is True, by the way ;)\n",
    "lab_cool = True"
   ]
  },
  {
   "cell_type": "markdown",
   "metadata": {},
   "source": [
    "Run the cell above, and you'll notice it doesn't seem to do anything yet. Let's fix that!\n",
    "\n",
    "Run this cell:"
   ]
  },
  {
   "cell_type": "code",
   "execution_count": null,
   "metadata": {
    "collapsed": true
   },
   "outputs": [],
   "source": [
    "# We can view the values of variables with print()\n",
    "print(\"Full name: \" + full_name)"
   ]
  },
  {
   "cell_type": "markdown",
   "metadata": {},
   "source": [
    "Try playing around with the `print()` statement above. See if you can get it to print out the other variables you declared above. Once you're satisfied, feel free to move on."
   ]
  },
  {
   "cell_type": "markdown",
   "metadata": {},
   "source": [
    "## Lists\n",
    "\n",
    "Python also has something called a <b>list</b>, (an <b>array</b> in some other languages) which allows us to store multiple values in one variable. You can then access the values by <i>indexing</i> into the list, as we'll see below. Note that lists are kind of weird, in that the first index is actually position <i>zero.</i>"
   ]
  },
  {
   "cell_type": "code",
   "execution_count": null,
   "metadata": {
    "collapsed": true
   },
   "outputs": [],
   "source": [
    "# We create the list here, starting with your first and last name in the first two positions\n",
    "# Notice how we can use values and variables interchangeably.\n",
    "info = [first_name, last_name, \"Hello!\"]\n",
    "\n",
    "\n",
    "# We print out the first value of the list, by indexing into position zero\n",
    "print(\"info[0]: \" + info[0])\n",
    "\n",
    "\n",
    "# We can also change the value at a particular index in the list\n",
    "# Try putting a nickname in place of your first name!\n",
    "info[0] = \"Nickname\"\n",
    "\n",
    "\n",
    "# Notice how the value at info[0] changed?\n",
    "print(\"info[0], redux: \" + info[0])\n",
    "\n",
    "\n",
    "# We can also just print out the whole list\n",
    "print(\"info:\", info)\n",
    "\n",
    "\n",
    "# We can even add your favorite color!\n",
    "info = info + [favorite_color]\n",
    "\n",
    "print(\"info:\", info)"
   ]
  },
  {
   "cell_type": "markdown",
   "metadata": {},
   "source": [
    "## Functions\n",
    "\n",
    "Python has many built-in functions which <i>do things.</i> Functions take *arguments*, which are the comma-separated values in between the parentheses following the function name. You can even write your own functions, but we'll get into that later.\n",
    "\n",
    "We've already seen the `print()` function, which \"prints out\" its arguments, but there are many more. For now, however, we'll mostly be using `print()` and functions from Turtle Graphics.\n",
    "\n",
    "Speaking of which..."
   ]
  },
  {
   "cell_type": "markdown",
   "metadata": {},
   "source": [
    "## A brief introduction to Turtle Graphics\n",
    "\n",
    "We'll also be using something called <a href=\"https://docs.python.org/2/library/turtle.html\">Turtle Graphics</a> in this lab, which sadly features no actual turtles. Instead, it's a library (basically code that someone else wrote that we can use) that allows us to draw with commands, kind of like an Etch-A-Sketch. Run the code cell below to import (run with our code) and initialize (start up) Turtle Graphics. A window like this one should pop up:\n",
    "\n",
    "<img src=\"turtle-start.png\" width=\"400px\">\n",
    "\n",
    "You'll want to have it open and visible along with this one."
   ]
  },
  {
   "cell_type": "code",
   "execution_count": null,
   "metadata": {},
   "outputs": [],
   "source": [
    "# We want to use turtle\n",
    "import turtle\n",
    "\n",
    "# Start up Turtle Graphics\n",
    "turtle.Turtle()"
   ]
  },
  {
   "cell_type": "markdown",
   "metadata": {},
   "source": [
    "In the code cell below, we start with some basic Turtle functions. Try to predict what this cell will do, then run it and find out!"
   ]
  },
  {
   "cell_type": "code",
   "execution_count": null,
   "metadata": {
    "collapsed": true
   },
   "outputs": [],
   "source": [
    "# Distance to move in pixels (individual points on the screen)\n",
    "distance = 100\n",
    "# Number of degrees to turn\n",
    "turn_degrees = 90\n",
    "\n",
    "turtle.forward(distance)\n",
    "turtle.left(turn_degrees)\n",
    "turtle.forward(distance)"
   ]
  },
  {
   "cell_type": "markdown",
   "metadata": {},
   "source": [
    "Now, we can reset the canvas with the code cell below."
   ]
  },
  {
   "cell_type": "code",
   "execution_count": null,
   "metadata": {
    "collapsed": true
   },
   "outputs": [],
   "source": [
    "turtle.reset()"
   ]
  },
  {
   "cell_type": "markdown",
   "metadata": {},
   "source": [
    "Try writing the code to draw a square. You can use the variables above for distance and turning angle, or redefine them however you'd like."
   ]
  },
  {
   "cell_type": "code",
   "execution_count": null,
   "metadata": {
    "collapsed": true
   },
   "outputs": [],
   "source": [
    "# Use the functions above to draw a square\n"
   ]
  },
  {
   "cell_type": "markdown",
   "metadata": {},
   "source": [
    "## Loops\n",
    "\n",
    "Wow, that was a lot of work! Instead, we can simplify the code by using\n",
    "*loops.* There are two popular types of loops, `for` and `while` loops. First we'll take a look at the `for` loop.  "
   ]
  },
  {
   "cell_type": "code",
   "execution_count": null,
   "metadata": {
    "collapsed": true
   },
   "outputs": [],
   "source": [
    "# This loop prints the numbers 0 through 4\n",
    "for i in range(0, 5, 1):\n",
    "    print(i)"
   ]
  },
  {
   "cell_type": "markdown",
   "metadata": {},
   "source": [
    "Wow, that loop did so much stuff! Let's break it down.\n",
    "\n",
    "Firstly, you probably noticed that the `print()` function call above is indented. Python uses indentation to group things together, so everything indented by one or more tabs under the `for` declaration will be looped over.\n",
    "\n",
    "For loops starts with the `for` keyword that's highlighted in green. \n",
    "\n",
    "Next is the variable name `i` which stores the current loop value. `in` is another necessary keyword. \n",
    "\n",
    "Finally, we have the function `range(start, stop, step)` that takes in three arguments. `range()` returns numbers from `start` up to, but not including, `stop`, incrementing by size `step`.\n",
    "\n",
    "We can even `for` loop over the contents of a list!"
   ]
  },
  {
   "cell_type": "code",
   "execution_count": null,
   "metadata": {
    "collapsed": true
   },
   "outputs": [],
   "source": [
    "# Here we loop over the contents of this list,\n",
    "# building up the variable \"concatenated\" as we go\n",
    "loop_over_me = [first_name, \" \", last_name, \" \", \"is \", \"the \", \"best\"]\n",
    "concatenated = \"\"\n",
    "\n",
    "for element in loop_over_me:\n",
    "    concatenated = concatenated + element\n",
    "    print(element)\n",
    "\n",
    "print(\"Concatenated string:\", concatenated)"
   ]
  },
  {
   "cell_type": "markdown",
   "metadata": {},
   "source": [
    "At this point, you've learned more than enough to write the code to draw a square with a `for` loop! Let's do it:"
   ]
  },
  {
   "cell_type": "code",
   "execution_count": null,
   "metadata": {
    "collapsed": true
   },
   "outputs": [],
   "source": [
    "turtle.reset()\n",
    "# Write the code to draw a square, except use a for loop this time\n"
   ]
  },
  {
   "cell_type": "markdown",
   "metadata": {},
   "source": [
    "See, wasn't that easier!\n",
    "\n",
    "Now, we'll move on to `while` loops. Try to predict what the code below will do, then run it and find out!"
   ]
  },
  {
   "cell_type": "code",
   "execution_count": null,
   "metadata": {},
   "outputs": [],
   "source": [
    "# What could this code possibly do?\n",
    "i = 0\n",
    "while i < 5:\n",
    "    print(i)\n",
    "    i = i + 1"
   ]
  },
  {
   "cell_type": "markdown",
   "metadata": {},
   "source": [
    "Interesting...\n",
    "\n",
    "First, you probably noticed that the `while` loop, like the `for` loop, used indentation. But the similarities pretty much stop there...\n",
    "\n",
    "We first declared the variable `i` outside of the loop, and set it to zero. Then we start the loop. `while` loops, unlike `for` loops, check a *condition* before proceeding. If the condition evaluates to *True*, the loop runs another time. Otherwise, if `i < 5` evaluates to *False*, the loop stops and the code moves on.\n",
    "\n",
    "The `<` is called a comparator because it *compares* the two values, just like in math. Python has several such comparators:\n",
    "\n",
    "Comparator | Meaning\n",
    "-----------| -------\n",
    "== | Equal to\n",
    "< | Less than\n",
    "<= | Less than or equal to\n",
    "\\> | Greater than\n",
    "\\>= | Greater than or equal to\n",
    "!= | Not equal to\n",
    "\n",
    "You can even combine comparators with `and` and `or`, or negate the results with `not`. In fact, any expression which evaluates to a boolean (*True* or *False*) value can be placed in a `while` loop.\n",
    "\n",
    "So, the above loop could have also been far more complicated, with the same results. We also could have written:"
   ]
  },
  {
   "cell_type": "code",
   "execution_count": null,
   "metadata": {
    "collapsed": true
   },
   "outputs": [],
   "source": [
    "# This code is bad. Never actually write code like this...\n",
    "i = 0\n",
    "while (not i >= 5) or i > 10000000 or False:\n",
    "    print(i)\n",
    "    i = i + 1"
   ]
  },
  {
   "cell_type": "markdown",
   "metadata": {},
   "source": [
    "Now you're ready to write the square-drawing code with a `while` loop!"
   ]
  },
  {
   "cell_type": "code",
   "execution_count": null,
   "metadata": {
    "collapsed": true
   },
   "outputs": [],
   "source": [
    "turtle.reset()\n",
    "# Write the code to draw a square, except use a while loop this time\n"
   ]
  },
  {
   "cell_type": "markdown",
   "metadata": {},
   "source": [
    "## Conditionals\n",
    "\n",
    "We've done a lot so far, but we're not done yet! Next we're going to discuss conditional statements, which are *super important* in programming.\n",
    "\n",
    "We'll start with an example. Try running this cell with different values of `i`."
   ]
  },
  {
   "cell_type": "code",
   "execution_count": null,
   "metadata": {
    "collapsed": true
   },
   "outputs": [],
   "source": [
    "# Try different values of i and see what's printed!\n",
    "i = 0\n",
    "\n",
    "if i < 0:               # Checked first\n",
    "    print(\"Negative\")\n",
    "elif i == 0:            # Checked next\n",
    "    print(\"Zero\")\n",
    "else:                   # Checked last\n",
    "    print(\"Positive\")"
   ]
  },
  {
   "cell_type": "markdown",
   "metadata": {},
   "source": [
    "Like a `while` loop, a conditional statement checks a conditional expression, and if it evaluates to *True*, runs the body. If the expression evaluates to *False*, it moves on to the next statement. If none of the conditions evaluate to *True*, the `else` statement, if included, runs as the default.\n",
    "\n",
    "In Python, conditional statements flow as such:\n",
    "\n",
    "1. An `if` statement\n",
    "2. Zero or more `elif` statements (a combination of the words *else* and *if*)\n",
    "3. Zero or one `else` statement\n",
    "\n",
    "Now, we're going to combine our knowledge from the last few lessons to make something more advanced! We'd like to create a miniature instruction set so we can tell our Turtle what to do more easily. Fill in the blanks in the code below, then try running it:"
   ]
  },
  {
   "cell_type": "code",
   "execution_count": null,
   "metadata": {
    "collapsed": true
   },
   "outputs": [],
   "source": [
    "turtle.reset()\n",
    "# Blank: fill in a list of commands in the form of integer numbers\n",
    "# which are positive, negative, or zero\n",
    "commands = []\n",
    "\n",
    "for comm in commands:\n",
    "    # Blank: We want the following to hold true:\n",
    "    #        - Negative commands make the Turtle turn right 90 degrees\n",
    "    #             Hint: turtle.right is a useful function here\n",
    "    #        - Positive commands make the Turtle turn left 90 degrees\n",
    "    #        - Zero commands make the Turtle go forward 100 pixels\n",
    "    # Write the if statements to perform this for each value in the list here:\n",
    "    \n",
    "    print(comm)"
   ]
  },
  {
   "cell_type": "markdown",
   "metadata": {},
   "source": [
    "You did it! Now on to our final topic."
   ]
  },
  {
   "cell_type": "markdown",
   "metadata": {},
   "source": [
    "## Functions, Part II: Revenge of the lazy programmer\n",
    "\n",
    "At this point, you've used plenty of other people's functions. But it turns out you can also write your own!\n",
    "\n",
    "Functions allow you to write a section of code once and easily reuse it elsewhere in your program. Like loops and conditional statements, functions use indentation to group lines of code together. In Python, you *define* a function with a `def` statement. Run the code cell below for an example."
   ]
  },
  {
   "cell_type": "code",
   "execution_count": null,
   "metadata": {
    "collapsed": true
   },
   "outputs": [],
   "source": [
    "def range_print(end):\n",
    "    for i in range(0, end + 1, 1):\n",
    "        print(i)"
   ]
  },
  {
   "cell_type": "markdown",
   "metadata": {},
   "source": [
    "Well that's strange, it didn't *do anything*. What happens if we try to call it like we've been doing?"
   ]
  },
  {
   "cell_type": "code",
   "execution_count": null,
   "metadata": {
    "collapsed": true
   },
   "outputs": [],
   "source": [
    "range_print(5)"
   ]
  },
  {
   "cell_type": "markdown",
   "metadata": {},
   "source": [
    "**Woah, look at that!**\n",
    "\n",
    "Functions are even more powerful though. Instead of just printing things, they can also *return* data back to the function caller with the `return` keyword. Run this example to see:"
   ]
  },
  {
   "cell_type": "code",
   "execution_count": null,
   "metadata": {
    "collapsed": true
   },
   "outputs": [],
   "source": [
    "def range_return(start, end):\n",
    "    lst = []\n",
    "    for i in range(start, end + 1, 1):\n",
    "        lst = lst + [i]\n",
    "    return lst"
   ]
  },
  {
   "cell_type": "code",
   "execution_count": null,
   "metadata": {
    "collapsed": true
   },
   "outputs": [],
   "source": [
    "print(range_return(1, 5))"
   ]
  },
  {
   "cell_type": "markdown",
   "metadata": {},
   "source": [
    "**So what's happening here?**\n",
    "\n",
    "The function `range_return()` returns a list of values in the specified range (inclusive on both bounds, try to figure out why). Then, the `print()` function takes that list as an argument and prints the list!\n",
    "\n",
    "Now that you've learned so much, it's time to put it all together! In the code cell below, write a function called `draw()` that takes in a list of commands in this format:\n",
    "\n",
    "Command | Meaning\n",
    "-- | --\n",
    "A positive integer `x` | Move forward `x` units\n",
    "A negative integer `x` | Turn left by `-1 * x` degrees\n",
    "A zero | Do nothing\n",
    "\n",
    "and runs them all sequentially to instruct the Turtle to generate a drawing. This is one of the hardest parts of the lab, so again, if you get stuck or have questions, don't be afraid to ask!\n",
    "\n",
    "Hint: We'd like to start with a fresh canvas each time, so start by resetting Turtle."
   ]
  },
  {
   "cell_type": "code",
   "execution_count": null,
   "metadata": {
    "collapsed": true
   },
   "outputs": [],
   "source": [
    "# Write your function here!\n"
   ]
  },
  {
   "cell_type": "markdown",
   "metadata": {},
   "source": [
    "Now, we can test your implementation! Run the code cell below to see what happens!"
   ]
  },
  {
   "cell_type": "code",
   "execution_count": null,
   "metadata": {
    "collapsed": true
   },
   "outputs": [],
   "source": [
    "draw([100, -90, 100, 100, -90, 100, 100, -90, 100, 100, -90, 100])"
   ]
  },
  {
   "cell_type": "markdown",
   "metadata": {},
   "source": [
    "That shape might look familiar! Let's try something more advanced..."
   ]
  },
  {
   "cell_type": "code",
   "execution_count": null,
   "metadata": {
    "collapsed": true
   },
   "outputs": [],
   "source": [
    "lst = []\n",
    "\n",
    "for i in range(0, 300, 5):\n",
    "    lst = lst + [-90, i]\n",
    "    \n",
    "draw(lst)"
   ]
  },
  {
   "cell_type": "markdown",
   "metadata": {
    "collapsed": true
   },
   "source": [
    "Think of how much code that would've taken to write out directly! Thanks to loops, conditionals, and functions, we've done so much with just a few lines. In fact, you've just built a basic *interpreter*, which is a program that takes in commands and executes actions based on them.\n",
    "\n",
    "Now, try drawing a 5-pointed star with your `draw()` function."
   ]
  },
  {
   "cell_type": "code",
   "execution_count": null,
   "metadata": {
    "collapsed": true
   },
   "outputs": [],
   "source": [
    "star = []\n",
    "\n",
    "# Fill in the list \"star\" to draw a star\n",
    "\n",
    "###\n",
    "for i in range(5):\n",
    "    star += [100,-144]\n",
    "###\n",
    "\n",
    "draw(star)"
   ]
  },
  {
   "cell_type": "markdown",
   "metadata": {},
   "source": [
    "In the cell below, we encourage you to try writing more programs with your `draw()` function to see what you can create!\n",
    "\n",
    "One idea might be making a function that can make a list of commands to draw stars of any size, or stars with any number of points. Then, you can call this function to draw multiple stars on the screen."
   ]
  },
  {
   "cell_type": "code",
   "execution_count": null,
   "metadata": {
    "collapsed": true
   },
   "outputs": [],
   "source": [
    "# Have fun with your draw() function!\n"
   ]
  },
  {
   "cell_type": "markdown",
   "metadata": {},
   "source": [
    "## Recursion!"
   ]
  },
  {
   "cell_type": "markdown",
   "metadata": {},
   "source": [
    "Now that you've learned how to define functions and call those functions, let's move on to something even cooler: Recursion!\n",
    "\n",
    "The basic idea of recursion is that you can call a function from inside the body of the function itself! This means that when you call the function, it will make another call to the function, which will make another call to the function, which will make another... well, you get the idea.\n",
    "\n",
    "A recursive function might look something like this:"
   ]
  },
  {
   "cell_type": "code",
   "execution_count": null,
   "metadata": {
    "collapsed": true
   },
   "outputs": [],
   "source": [
    "def bad_recursive_function(x): # The start of the function, which takes an input of x\n",
    "    print(x) # Print x\n",
    "    bad_recursive_function(x) # The function calls itself with an input of x\n",
    "    "
   ]
  },
  {
   "cell_type": "markdown",
   "metadata": {},
   "source": [
    "Can you see how the function \"bad_recursive_function\" is being called from within itself? Weird, huh?\n",
    "\n",
    "If I were to call the function above, however, something bad would happen. To be more precise, the function would never stop! It would just keep on calling itself forever, and that really isn't useful when you want to get things done.\n",
    "\n",
    "So how can we make it stop? Generally, we'd need a termination condition, which we can also call a \"base case.\" This will basically tell the program when to stop calling itself, using a simple \n",
    "\n",
    "Try going through each line of the code to predict what the function below will do when called using an input of 1, and then run it to see what happens!"
   ]
  },
  {
   "cell_type": "code",
   "execution_count": null,
   "metadata": {
    "collapsed": true
   },
   "outputs": [],
   "source": [
    "def good_recursive_function(x):\n",
    "    print(x)\n",
    "    if x == 0:\n",
    "        return None # This returns nothing, and stops the function from calling itself again.\n",
    "    else:\n",
    "        good_recursive_function(x-1) # This calls the function again, but only after decreasing the input"
   ]
  },
  {
   "cell_type": "code",
   "execution_count": null,
   "metadata": {},
   "outputs": [],
   "source": [
    "# Run this cell to start the function.\n",
    "good_recursive_function(1)"
   ]
  },
  {
   "cell_type": "markdown",
   "metadata": {
    "collapsed": true
   },
   "source": [
    "What if we call this method on the number 5?"
   ]
  },
  {
   "cell_type": "code",
   "execution_count": null,
   "metadata": {},
   "outputs": [],
   "source": [
    "good_recursive_function(5)"
   ]
  },
  {
   "cell_type": "markdown",
   "metadata": {},
   "source": [
    "But wait, haven't we seen this functionality before? In fact, can't we do the same thing with for loops, or while loops? What even is the point of recursion?\n",
    "\n",
    "It turns out that recursion has many more uses than just printing numbers. It allows you to view problems differently than loops would. More specifically, its useful for problems that can be broken up into smaller versions of that same problem. \n"
   ]
  },
  {
   "cell_type": "markdown",
   "metadata": {},
   "source": [
    "### Fibonacci Sequence"
   ]
  },
  {
   "cell_type": "markdown",
   "metadata": {},
   "source": [
    "A good example of this is the Fibonacci sequence:\n",
    "\n",
    "1, 1, 2, 3, 5, 8, 13, 21, 34, 55, 89...\n",
    "\n",
    "Each number in the sequence is the sum of the two previous numbers. This means you can solve the problem of finding the fifth fibonacci number, fibonacci(5), by breaking it up into solving two smaller problems, finding fibonacci(4) and fibonacci(3), and then adding those together. You can learn more about the Fibonacci sequence <a href=\"https://en.wikipedia.org/wiki/Fibonacci_number\">here</a>. \n",
    "\n",
    "Let's work on writing a program to calculate the n^th Fibonacci number in the series! All we'll need to do is call the function on two smaller inputs, and include a base case to tell the program when to stop.\n",
    "\n",
    "(Hint: For the Fibonacci sequence, you want to stop if the number passed in is 1 or 2. This means that you're asking for the first or second number in the Fibonacci sequence, and as we can see above, the first and second number are both just 1)"
   ]
  },
  {
   "cell_type": "code",
   "execution_count": null,
   "metadata": {
    "collapsed": true
   },
   "outputs": [],
   "source": [
    "def fib(n): # The function fib, which takes in a number n\n",
    "    \n",
    "    # First, check to see if n is 1 or 2, and if so, return 1\n",
    "    \n",
    "    # Set a variable equal to calling fib on n-1\n",
    "    \n",
    "    # Set another variable equal to calling fib on n-2\n",
    "    \n",
    "    # Return the sum of both of those variables\n"
   ]
  },
  {
   "cell_type": "markdown",
   "metadata": {},
   "source": [
    "Run this cell to test your function! For example, when you call fib(7), you should get the 7th number in the Fibonacci series, 13. Does it work?"
   ]
  },
  {
   "cell_type": "code",
   "execution_count": null,
   "metadata": {},
   "outputs": [],
   "source": [
    "fib(7)\n",
    "# Try some other inputs below if you'd like"
   ]
  },
  {
   "cell_type": "markdown",
   "metadata": {},
   "source": [
    "## Sierpinski's Triangle"
   ]
  },
  {
   "cell_type": "markdown",
   "metadata": {},
   "source": [
    "<img src=\"Sierpinski'sTriangleTurtleGraphics.jpg\" width=\"300px\">\n",
    "\n",
    "Now let's mix together everything you've learned so far: we'll use recursion and turtle graphics to draw Sierpinski's triange! This part (and all of recursion, really) can be pretty challenging, so please don't hesitate to ask for help!\n",
    "\n",
    "Let's begin!"
   ]
  },
  {
   "cell_type": "markdown",
   "metadata": {},
   "source": [
    "First, define a function named triangle that takes in one parameter called \"size\" and returns a list containing the commands to draw a triangle of size \"size.\" Make sure to return to the same spot, facing the same direction you were facing before.\n",
    "\n",
    "This example code draws a line, and is just here for your reference. You really don't need to use it in anything."
   ]
  },
  {
   "cell_type": "code",
   "execution_count": null,
   "metadata": {
    "collapsed": true
   },
   "outputs": [],
   "source": [
    "def line(length):\n",
    "    return [length, -180]\n",
    "\n",
    "# Write your function here\n",
    "\n",
    "# Running this should draw a triangle of size 100\n",
    "draw(triangle(100))"
   ]
  },
  {
   "cell_type": "markdown",
   "metadata": {},
   "source": [
    "We can also combine lists of commands to execute multiple things at once! Mess around with combining lists and drawing triangles in multiple places. Here are some examples!"
   ]
  },
  {
   "cell_type": "code",
   "execution_count": null,
   "metadata": {
    "collapsed": true
   },
   "outputs": [],
   "source": [
    "move_forward_200 = [200]\n",
    "\n",
    "draw(triangle(100) + move_forward_200 + triangle(100))"
   ]
  },
  {
   "cell_type": "code",
   "execution_count": null,
   "metadata": {
    "collapsed": true
   },
   "outputs": [],
   "source": [
    "tri = triangle(50)\n",
    "move = [100, -60]\n",
    "\n",
    "draw(tri + move + tri + move + tri + move + tri)"
   ]
  },
  {
   "cell_type": "markdown",
   "metadata": {},
   "source": [
    "Now we're going to write the function that goes to each corner of the triangle and draws a smaller sierpinski triangle starting from there. This is the recursive function!\n",
    "\n",
    "First, define a function called sierpinski that takes in one parameter named \"size.\" \n",
    "\n",
    "Inside the function, return triangle(size) if the size is less than 50 (to stop the method from recursing forever).\n",
    "\n",
    "Otherwise, call the sierpinski function with an input of half of size (a smaller subproblem) and store the list returned by that in a variable.\n",
    "Then create another variable that stores the actions needed to go forward by the amount \"size\" and turn to face the next edge of the triangle.\n",
    "\n",
    "Finally, create a combination of the two variables you just defined so that your turtle draws a smaller sierpinski, moves to the next corner, draws another smaller sierpinski, moves to the next corner, draws another smaller sierpinski, and moves to the next corner one last time.\n",
    "Return that combination, and you're done!"
   ]
  },
  {
   "cell_type": "code",
   "execution_count": null,
   "metadata": {
    "collapsed": true
   },
   "outputs": [],
   "source": [
    "# Write your function here\n"
   ]
  },
  {
   "cell_type": "markdown",
   "metadata": {},
   "source": [
    "When you call the draw function below, you should see a sierpinski triangle."
   ]
  },
  {
   "cell_type": "code",
   "execution_count": null,
   "metadata": {
    "collapsed": true
   },
   "outputs": [],
   "source": [
    "draw(sierpinski(100))"
   ]
  },
  {
   "cell_type": "markdown",
   "metadata": {},
   "source": [
    "Once you've got the sierpinski function working properly, remove the \"turtle.reset()\" statement fom your draw function, rerun that code block, and return here to run the code below. This code speeds up the animation and draws a larger sierpinski triangle starting from the bottom corner of the window."
   ]
  },
  {
   "cell_type": "code",
   "execution_count": null,
   "metadata": {
    "collapsed": true
   },
   "outputs": [],
   "source": [
    "turtle.reset()\n",
    "turtle.penup()\n",
    "turtle.speed(0)\n",
    "turtle.setpos(-300,-300)\n",
    "turtle.pendown()\n",
    "draw(sierpinski(600))"
   ]
  },
  {
   "cell_type": "markdown",
   "metadata": {},
   "source": [
    "Here's a challenge: can you figure out what to change in the code to make the function draw even more triangles within your smallest triangles? In other words, can you get it to have more detail, like the picture above?"
   ]
  },
  {
   "cell_type": "markdown",
   "metadata": {},
   "source": [
    "### Congratulations, you've reached the end!\n",
    "\n",
    "This is the end of the official lab. We hope you've had fun and learned a lot! We're including one more code cell below as a blank canvas. We encourage you to try whatever you'd like, but if you're looking for suggestions, Turtle Graphics has a lot more interesting features you can play around with: <a href=\"https://docs.python.org/2/library/turtle.html\">you can find the documentation here</a>.\n",
    "\n",
    "This is also your chance to experiement! Whether you decide to try wacky stuff, make an artistic masterpiece, or both, we'd love to see what you can create!\n",
    "\n",
    "Alternatively, feel free to ask the lab assistants for suggestions. I'm sure they'd love some help with *their* programming homework!"
   ]
  },
  {
   "cell_type": "code",
   "execution_count": null,
   "metadata": {
    "collapsed": true
   },
   "outputs": [],
   "source": []
  }
 ],
 "metadata": {
  "kernelspec": {
   "display_name": "Python 3",
   "language": "python",
   "name": "python3"
  },
  "language_info": {
   "codemirror_mode": {
    "name": "ipython",
    "version": 3
   },
   "file_extension": ".py",
   "mimetype": "text/x-python",
   "name": "python",
   "nbconvert_exporter": "python",
   "pygments_lexer": "ipython3",
   "version": "3.6.2"
  }
 },
 "nbformat": 4,
 "nbformat_minor": 2
}
