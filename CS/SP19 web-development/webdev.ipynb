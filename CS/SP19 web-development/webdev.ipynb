{
 "cells": [
  {
   "cell_type": "markdown",
   "metadata": {},
   "source": [
    "# Making a Personal Site with HTML/CSS/JavaScript tutorial!\n",
    "\n",
    "In this web development module, we will take you through making a basic webpage using HTML, CSS and JavaScript. This requires no previous coding experience. By the end of this module, you will be able to create a simple webpage on pretty much any topic you want. Have fun!\n",
    "\n",
    "\n",
    "## Table of Contents\n",
    "\n",
    "* [Introduction- What is HTML?](#intro)\n",
    "* [Simple Example](#htmlExample)\n",
    "* [HTML Tags](#tags)\n",
    "* [JavaScript](#js)\n",
    "* [Like Button Example](#jsLikeBtn)\n",
    "* [Improving Your Website](#moreCssJs)\n",
    "    * [CSS positioning](#cssPosition)\n",
    "    * [jQuery](#jQuery)"
   ]
  },
  {
   "cell_type": "markdown",
   "metadata": {},
   "source": [
    "<a id='intro'></a>\n",
    "# Introduction - What is HTML?\n",
    "\n",
    "* HTML stands for Hyper Text Markup Language\n",
    "* It describes the structure of Web pages \n",
    "* HTML elements are the building blocks of HTML pages \n",
    "* HTML elements are represented by tags (eg. `<html></html>`). HTML tags label pieces of content such as \"heading\", \"paragraph\", \"table\", and so on. Browsers do not display the HTML tags, but use them to render the content of the page\n",
    "* HTML files are nothing more than simple text files, so to start writing in HTML, you need nothing more than a simple text editor (Notepad on Windows or TextEdit on Mac will work).\n",
    "\n",
    "<hr style=\"border-bottom: 1px dotted black; border-top: 1px dotted white\">\n",
    "<a id='htmlExample'></a>\n",
    "# Simple Example\n",
    "Take a look at the HTML code provided below. If it doen't make sense to you, don't worry. We will go through each piece of it in detail. When you have looked at the code, run it and see the output. To run press SHIFT ENTER (ask a mentor if you have any problems)"
   ]
  },
  {
   "cell_type": "code",
   "execution_count": null,
   "metadata": {},
   "outputs": [],
   "source": [
    "%%html\n",
    "<!DOCTYPE html>\n",
    "<html>\n",
    "    <head>\n",
    "        <title>Hello World</title>\n",
    "    </head>\n",
    "    <body>\n",
    "        <h1>My First Heading</h1>  \n",
    "        <p>My first paragraph.</p>  \n",
    "    </body>\n",
    "</html>"
   ]
  },
  {
   "cell_type": "markdown",
   "metadata": {},
   "source": [
    "********\n",
    "## Example Explained\n",
    "* The `<!DOCTYPE html>` declaration defines this document to be HTML5\n",
    "* The `<html>` element is the root element of an HTML page. Every html file needs to start with it.\n",
    "* The `<head>` element contains meta information about the document. This will not be printed on the page, but can be used as a reference by web developers.\n",
    "* The `<title>` element specifies a title for the document. This is what appears on the tab of the page when you look at it on a web browser.\n",
    "* The `<body>` element contains the visible page content. Anything you want to display shows up here.\n",
    "* The `<h1>` element defines a large heading. You can adjust the size of the heading to whatever you want (eg h2, h3). `<h1>` is the largest header.\n",
    "* The `<p>` element defines a paragraph\n",
    "\n",
    "#### Slight Modifications\n",
    "Make the following modifications (one at a time) to the code above and re-run the code:\n",
    "1. Replace the header (line 9) with your name and the paragraph (line 10) with your favorite line from a song (we all have one)\n",
    "2. Decrease the size of your name (hint: see the explanation of `<h1>` given above) "
   ]
  },
  {
   "cell_type": "markdown",
   "metadata": {},
   "source": [
    "<hr style=\"border-bottom: 1px dotted black; border-top: 1px dotted white\">\n",
    "<a id='tags'></a>\n",
    "# Tags\n",
    "\n",
    "Tags are the basic structure of an HTML document. Tags surround content and apply meaning to it. We have already introduced you some tags (eg. `<h1>, <p>`). Notice that most tags have an opening tag(eg. `<h1>`) and an closing tag (eg. `</h1>`).\n",
    "\n",
    "\n",
    "Here, we introduced more tags to describe your website:\n",
    "1. [Headings (title or titles of the page)](#headings)\n",
    "2. [Paragraphs (longer entries on the page)](#paragraphs)\n",
    "3. [Images](#images)\n",
    "4. [Links (you can link to other favorite websites on your website to share them)](#links)\n"
   ]
  },
  {
   "cell_type": "markdown",
   "metadata": {},
   "source": [
    "## Getting started with a text editor\n",
    "\n",
    "* [Sublime (recommended)](https://www.sublimetext.com/3)\n",
    "* [Atom (also recommended)](https://atom.io/)\n",
    "    - Both Sublime and Atom will <span style=\"color: red\">h</span><span style=\"color:orangered\">i</span><span style=\"color:orange\">g</span><span style=\"color:green\">h</span><span style=\"color:blue\">l</span><span style=\"color:blue\">i</span><span style=\"color: red\">g</span><span style=\"color:orangered\">h</span><span style=\"color:orange\">t</span> your code, which makes it more readable!\n",
    "* Notepad (not recommended)\n",
    "<br>\n",
    "\n",
    "Open the starter.html file, but feel free to rename it as 'Your name.html', with your name used. Once you have done that, right click on the file, and open it using a web browser (E.g. Google Chrome or Safari). You will be able to see your page how it would appear on a website.\n",
    "\n",
    "Congratulations, you have just completed your first webpage! But I'm sure there is alot more you wish to add (more text, images, links, etc)."
   ]
  },
  {
   "cell_type": "markdown",
   "metadata": {},
   "source": [
    "<a id=\"headings\"></a>\n",
    "### Headings\n",
    "Headings are defined with the h1 to h6 tags. They are used for titles, or subtitles. The convention is to use h1 for the main title, and h2 for subtitle, and h3 for the next level of title and so forth."
   ]
  },
  {
   "cell_type": "code",
   "execution_count": null,
   "metadata": {},
   "outputs": [],
   "source": [
    "%%html\n",
    "<!DOCTYPE html>\n",
    "<html>\n",
    "    <head>\n",
    "        <title>Hello World</title>\n",
    "    </head>\n",
    "    <body>\n",
    "        <h1>This is an h1 tag, the main title</h1>\n",
    "        <h2>This is an h2 tag</h2>\n",
    "        <h3>This is an h3 tag</h3>\n",
    "        <h4>This is an h4 tag</h4>\n",
    "        <h5>This is an h5 tag</h5>\n",
    "        <h6>This is an h6 tag</h6>\n",
    "\n",
    "    </body>\n",
    "</html>"
   ]
  },
  {
   "cell_type": "markdown",
   "metadata": {},
   "source": [
    "<a id=\"paragraphs\"></a>\n",
    "### Paragraphs\n",
    "\n",
    "Run the following code. (You don't have to read it)"
   ]
  },
  {
   "cell_type": "code",
   "execution_count": null,
   "metadata": {},
   "outputs": [],
   "source": [
    "%%html\n",
    "<!DOCTYPE html>\n",
    "<html>\n",
    "    <head>\n",
    "        <title>Hello World</title>\n",
    "    </head>\n",
    "    <body>\n",
    "\n",
    "        <p>We can use paragraphs for larger chucks of text that we want on our website. Feel free to use them for descriptions \n",
    "        of yourself or your hobbies.</p>\n",
    "        <p>There is no constraint on how long or how short you make a paragraph, but notice how it is unbolded and is smaller\n",
    "        than headings</p>\n",
    "\n",
    "    </body>\n",
    "</html>"
   ]
  },
  {
   "cell_type": "markdown",
   "metadata": {},
   "source": [
    "<a id=\"images\"></a>\n",
    "### Images\n",
    "Images make a webpage cool, and you can use it to showcase vacation photos or old albums on your facebook. Run the following code, beware the bear will be really big."
   ]
  },
  {
   "cell_type": "code",
   "execution_count": null,
   "metadata": {},
   "outputs": [],
   "source": [
    "%%html\n",
    "<!DOCTYPE html>\n",
    "<html>\n",
    "    <head>\n",
    "        <title>Hello World</title>\n",
    "    </head>\n",
    "    <body>\n",
    "        <img src=\"namanbear.jpg\"></img>\n",
    "    </body>\n",
    "</html>"
   ]
  },
  {
   "cell_type": "markdown",
   "metadata": {},
   "source": [
    "### Resizing images\n",
    "One way to resize the image to be smaller is with CSS (Cascading Style Sheets). One way to add styling is to add a style attribute in the tag to change an element's styling. You can also add CSS in an external file. Here is the same bear but resized to the right dimensions"
   ]
  },
  {
   "cell_type": "code",
   "execution_count": null,
   "metadata": {},
   "outputs": [],
   "source": [
    "%%html\n",
    "<!DOCTYPE html>\n",
    "<html>\n",
    "    <head>\n",
    "        <title>Hello World</title>\n",
    "    </head>\n",
    "    <body>\n",
    "        <img style=\"width:200px;\" src=\"namanbear.jpg\"></img>\n",
    "    </body>\n",
    "</html>"
   ]
  },
  {
   "cell_type": "markdown",
   "metadata": {},
   "source": [
    "That's much better! Now you know how to harness images in your webpages."
   ]
  },
  {
   "cell_type": "markdown",
   "metadata": {},
   "source": [
    "<a id=\"links\"></a>\n",
    "### Links or the a tag\n",
    "We can also link other websites on our webpage with the a tag just put the link in the href attribute in the tag. \n",
    "### Warning: if you click the link you will leave this page, but you have the option to right click and open the link in another tab."
   ]
  },
  {
   "cell_type": "code",
   "execution_count": null,
   "metadata": {},
   "outputs": [],
   "source": [
    "%%html\n",
    "<!DOCTYPE html>\n",
    "<html>\n",
    "    <head>\n",
    "        <title>Hello World</title>\n",
    "    </head>\n",
    "    <body>\n",
    "        <a href=\"google.com\">Google!</a>\n",
    "    </body>\n",
    "</html>"
   ]
  },
  {
   "cell_type": "markdown",
   "metadata": {},
   "source": [
    "### Go Explore!!!\n",
    "Now that you know these basics, go open `starter.html` and play around with the HTML elements that you have learned here.\n",
    "If you want to style stuff up, feel free to ask a mentor, but it will basically be CSS that we used to change the width of the image, but instead use it to change attributes like color, padding, font, etc."
   ]
  },
  {
   "cell_type": "markdown",
   "metadata": {
    "collapsed": true
   },
   "source": [
    "<hr style=\"border-bottom: 1px dotted black; border-top: 1px dotted white\">\n",
    "<a id='js'></a>\n",
    "# JavaScript\n",
    "Now, you will learn the basics of a programming language called JavaScript. JavaScript is most often used for web development alongside HTML/CSS. After this tutorial, you will have the opportunity build a simple \"Like\" button!"
   ]
  },
  {
   "cell_type": "markdown",
   "metadata": {},
   "source": [
    "## Basics\n",
    "Click on these links to start exploring the JavaScript world!\n",
    "\n",
    "[1. Printing to Console](https://repl.it/@chonseng/HKNMarkerWorkshopsJS)\n",
    "\n",
    "[2. Variables](https://repl.it/@chonseng/HKNMarkerWorkshopsJSVariables)\n",
    "\n",
    "[3. Booleans](https://repl.it/@chonseng/HKNMarkerWorkshopsJSBooleans)\n",
    "\n",
    "[4. Objects](https://repl.it/@chonseng/HKNMarkerWorkshopsJSObjects)\n",
    "\n",
    "[5. Arrays](https://repl.it/@chonseng/HKNMarkerWorkshopsJSArrays)\n",
    "\n",
    "[6. If Statements](https://repl.it/@chonseng/HKNMarkerWorkshopsJSIf)\n",
    "\n",
    "[7. Functions](https://repl.it/@chonseng/HKNMarkerWorkshopsJSFunctions)\n",
    "\n",
    "Now you know the basics. Let's head into an example."
   ]
  },
  {
   "cell_type": "markdown",
   "metadata": {},
   "source": [
    "<hr style=\"border-bottom: 1px dotted black; border-top: 1px dotted white\">\n",
    "<a id=\"jsLikeBtn\"></a>\n",
    "# Like Button Example\n",
    "Let's integrate some JavaScripts to your website!\n",
    "\n",
    "Before writing some JavaScripts, add the following HTML tags inside your `<body>`."
   ]
  },
  {
   "cell_type": "markdown",
   "metadata": {},
   "source": [
    "```html\n",
    "<input type=\"button\" value=\"Like!\" onclick=\"increment();\" />\n",
    "<p>Number of Likes: </p><p id=\"numberOfLikes\">0</p>\n",
    "<script>\n",
    "    /* Write your JavaScript here*/\n",
    "\n",
    "</script>\n",
    "```"
   ]
  },
  {
   "cell_type": "markdown",
   "metadata": {
    "collapsed": true
   },
   "source": [
    "## Example Explained\n",
    "`<input>` element specify an input. There are several types of input (eg. text, button). Here we set `type=\"button\"`. You can try to change the type to \"text\" and see how it changes. \n",
    "\n",
    "* `value=\"Like!\"` specifies the text on the button.\n",
    "\n",
    "* `id=\"numberOfLikes\"` sets a unique ID for the `<p>` tag. It is important that you don't have two tags with the same ID. Later, we can tell the JavaScript to change the `<p>` with an id, \"`numberOfLikes`\". \n",
    "\n",
    "* `onclick=\"increment();\"` adds an event listen to the button. When the button is clicked, the JavaScript function `increment()` will be executed.\n",
    "\n",
    "Inside `<script>` tag, we add the JavaScript."
   ]
  },
  {
   "cell_type": "markdown",
   "metadata": {},
   "source": [
    "## Script\n",
    "```javascript\n",
    "    var like = 0;\n",
    "    function increment() {\n",
    "        like++;\n",
    "        document.getElementById(\"numberOfLikes\").innerHTML = like;\n",
    "    }\n",
    "```"
   ]
  },
  {
   "cell_type": "markdown",
   "metadata": {},
   "source": [
    "## Script Explained\n",
    "Before we explain the code, could you guess what it is doing?\n",
    "\n",
    "* `like++` is a shortcut for `like = like + 1`.\n",
    "\n",
    "* `document.getElementById(\"numberOfLikes\")` selects the HTML tag with an id, \"numberOfLikes\".\n",
    "\n",
    "* `document.getElementById(\"numberOfLikes\").innerHTML = like` changes the HTML to the value of `like`. \n",
    "\n",
    "\n",
    "Overall, we set the variable `like` equals 0. When the button is clicked, `increment()` function will be executed. The function will first increment the value of the variable `like`. Then, it will change the HTML of the element with the ID, \"numberOfLikes\", (ie. `<p id=\"numberOfLikes\">`) to the value of the variable `like`."
   ]
  },
  {
   "cell_type": "markdown",
   "metadata": {},
   "source": [
    "## Finished Code\n",
    "Run the code to preview the result."
   ]
  },
  {
   "cell_type": "code",
   "execution_count": null,
   "metadata": {},
   "outputs": [],
   "source": [
    "%%html\n",
    "<!DOCTYPE html>\n",
    "<html>\n",
    "    <head>\n",
    "        <title>Hello World</title>\n",
    "    </head>\n",
    "    <body>\n",
    "        <input type=\"button\" value=\"Like!\" onclick=\"increment();\" />\n",
    "        <p>Number of Likes: </p><p id=\"numberOfLikes\">0</p>\n",
    "        <script>\n",
    "            var like = 0;\n",
    "            function increment() {\n",
    "                like++;\n",
    "                document.getElementById(\"numberOfLikes\").innerHTML = like;\n",
    "            }\n",
    "        </script>\n",
    "    </body>\n",
    "</html>"
   ]
  },
  {
   "cell_type": "markdown",
   "metadata": {
    "collapsed": true
   },
   "source": [
    "## Add more buttons and JavaScript!\n",
    "Try to add a button that shows your secret hobbies!\n",
    "\n",
    "Hints: You may want to add an HTML tag `<li id=\"secret\">Secret</li>` to your hobby list and some JavaScript to change the text! Feel free to ask the mentors or look at `finished.html`. Have fun!"
   ]
  },
  {
   "cell_type": "markdown",
   "metadata": {},
   "source": [
    "<hr style=\"border-bottom: 1px dotted black; border-top: 1px dotted white\">\n",
    "<a id='moreCssJs'></a>\n",
    "# Improving your website\n",
    "Now that you have a basic website, now you can work on improving it! (example: check out [this website](http://naomisagan.com) \\*shameless self-promotion\\*)\n",
    "\n",
    "## .css and .js files\n",
    "For larger websites, your code can get hard to read if you have your CSS and JavaScript in your main HTML file. Web Developers usually have separate files with their CSS and JavaScript, and links to those files in their main HTML.\n",
    "1. Create two new files: `style.css` and `script.js` in the same folder as your html file.\n",
    "2. Between the `<head> </head>` tags in your html, add lines saying<br>\n",
    "    `<link type=\"text/css\" rel=\"stylesheet\" href=\"style.css\"/>` and <br>\n",
    "    `<script type=\"text/javascript\" src=\"script.js\"`\n",
    "3. Leave the css file blank for now, but move all of the javascript in your `<script> </script>` tag to your `script.js` file. Verify that your website still works as expected."
   ]
  },
  {
   "cell_type": "markdown",
   "metadata": {},
   "source": [
    "<a id='cssPosition'></a>\n",
    "## Adding more CSS\n",
    "If you want to make your website look more polished (or just add your own style), you might want to add some CSS to your style.css file. \n",
    "\n",
    "### Example: Google Homepage\n",
    "\n",
    "<div style=\"width:50%;float:left\">\n",
    "    <br>\n",
    "    <p> Google homepage without CSS </p>\n",
    "    <img src=\"http://felixthea.com/wp-content/uploads/2014/04/Google-no-css-copy.png\" style=\"width:100%\"/>\n",
    "</div>\n",
    "\n",
    "<div style=\"width:50%;float:left\">\n",
    "    <br>\n",
    "    <p> Google homepage WITH CSS </p>\n",
    "    <img src=\"https://upload.wikimedia.org/wikipedia/commons/thumb/b/bc/Google_Videos_Homepage_Search_Engine_Screenshot.png/1200px-Google_Videos_Homepage_Search_Engine_Screenshot.png\" style=\"width:100%\"/>\n",
    "</div>\n",
    "\n",
    "<br>"
   ]
  },
  {
   "cell_type": "markdown",
   "metadata": {},
   "source": [
    "### Demo: Positioning\n",
    "One of the most widespread uses of CSS is positioning. To see why, run the two following blocks of code. The first one does not use CSS for positioning, and the second one does. Notice the dramatic difference!\n",
    "    <br><br> *NOTE: when you have two classes/ids/elements separated by a space in css, it means that the second is nested inside the first.* <br> *For instance, `.example1 .blue {...}` means an item with the class `.blue` inside an item with the class `.example1` *\n",
    "    <br>"
   ]
  },
  {
   "cell_type": "code",
   "execution_count": null,
   "metadata": {},
   "outputs": [],
   "source": [
    "%%html\n",
    "<!DOCTYPE html>\n",
    "<html>\n",
    "    <head>\n",
    "        <style>\n",
    "            .example1 .blue {\n",
    "                background-color: rgb(10, 10, 150);\n",
    "            }\n",
    "            .example1 .gold {\n",
    "                background-color: rgb(240, 210, 40);\n",
    "            }\n",
    "            .example1 .container {\n",
    "                height: 200px;\n",
    "                width: 200px;\n",
    "                position: relative;\n",
    "            }\n",
    "            .example1 .inner {\n",
    "                height: 70px;\n",
    "                width: 70px;\n",
    "                position: absolute;\n",
    "            }\n",
    "            .example1 .top {\n",
    "                top: 20px;\n",
    "            }\n",
    "            .example1 .bottom {\n",
    "                bottom: 20px;\n",
    "            }\n",
    "            .example1 .left {\n",
    "                left: 20px;\n",
    "            }\n",
    "            .example1 .right {\n",
    "                right: 20px;\n",
    "            }\n",
    "            .example1 .center {\n",
    "                top: calc(50% - 35px);\n",
    "                left: calc(50% - 35px);\n",
    "            }\n",
    "            \n",
    "        </style>\n",
    "    </head>\n",
    "    <body>\n",
    "        <div class=\"example1\">\n",
    "            <div class=\"blue container\">\n",
    "                <div class=\"gold inner top left\"> </div>\n",
    "                <div class=\"gold inner top right\"> </div>\n",
    "                <div class=\"gold inner bottom left\"> </div>\n",
    "                <div class=\"gold inner bottom right\"> </div>\n",
    "                <div class=\"blue inner center\"> </div>\n",
    "            </div>\n",
    "        </div>\n",
    "    </body>\n",
    "</html>"
   ]
  },
  {
   "cell_type": "code",
   "execution_count": null,
   "metadata": {},
   "outputs": [],
   "source": [
    "%%html\n",
    "<!DOCTYPE html>\n",
    "<html>\n",
    "    <head>\n",
    "        <style>\n",
    "            .example2 .blue {\n",
    "                background-color: rgb(10, 10, 150);\n",
    "            }\n",
    "            .example2 .gold {\n",
    "                background-color:  rgb(240, 210, 40);\n",
    "                \n",
    "            }\n",
    "            .example2 .container {\n",
    "                height: 200px;\n",
    "                width: 200px;\n",
    "            }\n",
    "            .example2 .inner {\n",
    "                height: 70px;\n",
    "                width: 70px;\n",
    "            }\n",
    "            \n",
    "        </style>\n",
    "    </head>\n",
    "    <body>\n",
    "        <div class=\"example2\">\n",
    "            <div class=\"blue container\">\n",
    "                <div class=\"gold inner\"> </div>\n",
    "                <div class=\"gold inner\"> </div>\n",
    "                <div class=\"gold inner\"> </div>\n",
    "                <div class=\"gold inner\"> </div>\n",
    "                <div class=\"blue inner\"> </div>\n",
    "            </div>\n",
    "        </div>\n",
    "    </body>\n",
    "</html>"
   ]
  },
  {
   "cell_type": "markdown",
   "metadata": {},
   "source": [
    "### Absolute vs. relative positioning\n",
    "* **Absolute positioning**: Items with the CSS `position: absolute` are placed based their parent/outer element. They sometimes do not seem to \"take up space\" -- other elements will just be placed on top of them\n",
    "    * You can change their placement relative to their parent/enclosing element by using the `left`, `right`, `top`, and `bottom` style attributes and specifying a pixel or percentage value (ex. `left: 20px`, `right: 50%`)\n",
    "* **Relative positioning**: Items with the CSS `position: relative` are placed based on the other elements on the page. If you have two elements with relative positioning next to each other, they will not automatically be placed on top of each other.\n",
    "    * You can adjust how they are placed on the page using by changing their `margin`\n",
    "* CSS positioning is weird and might not always be what you expect. Look [here](https://www.w3schools.com/css/css_positioning.asp) for more information (and for more positioning options)!\n",
    "<br><br>\n",
    "\n",
    "### Change the following code so that all of the yellow boxes are inside the blue box but none of the yellow boxes overlap. Be creative (make it look nice)!\n",
    "*Tip: you can use `display: inline-block` to get divs to be on the same line*"
   ]
  },
  {
   "cell_type": "code",
   "execution_count": null,
   "metadata": {},
   "outputs": [],
   "source": [
    "%%html\n",
    "\n",
    "<div style=\"width: 200px; height: 150px\">\n",
    "    <div style=\"position: relative; background-color: blue; width: 100px; height: 100px;\"> </div>\n",
    "    <div style=\"position: absolute; background-color: gold; width: 30px; height: 30px;\"> </div>\n",
    "    <div style=\"position: absolute; background-color: gold; width: 30px; height: 30px;\"> </div>\n",
    "    <div style=\"position: relative; background-color: gold; width: 30px; height: 30px;\"> </div>\n",
    "</div>"
   ]
  },
  {
   "cell_type": "markdown",
   "metadata": {},
   "source": [
    "<hr style=\"border-bottom: 1px dotted black; border-top: 1px dotted white\">\n",
    "\n",
    "## More CSS resources!\n",
    "* [**Display**](https://www.w3schools.com/csSref/pr_class_display.asp): Also affects how items are positioned on the page\n",
    "* [**Borders**](https://www.w3schools.com/css/css_border.asp), [**Margins**](https://www.w3schools.com/css/css_margin.asp), and [**Padding**](https://www.w3schools.com/css/css_padding.asp): Spacing around items\n",
    "* [**Tables**](https://www.w3schools.com/css/css_table.asp) and [**Flex-box**](https://css-tricks.com/snippets/css/a-guide-to-flexbox/): more advanced positioning\n",
    "* [**General CSS resource**](https://www.w3schools.com/css/default.asp): A lot of documentation!\n",
    "\n",
    "\n",
    "<hr style=\"border-bottom: 1px dotted black; border-top: 1px dotted white\">\n",
    "\n",
    "<a id=\"jQuery\"></a>\n",
    "## JQuery\n",
    "You can theoretically use plain JavaScript to control your webpage, but it can get pretty tedious and verbose. This is why a lot of front-end developers use jQuery instead. In order to use jQuery, you either need to download [jquery.min.js](https://jquery.com/download/) and add a link to the file `<script src=\"location_of_your_jquery.min.js\">` or use a CDN (a content delivery network, or essentially a link to an online version of the file): `<script\n",
    "  src=\"http://code.jquery.com/jquery-3.3.1.min.js\"></script>`. For the purposes of this workshop, just use the CDN.\n",
    "  \n",
    "*Unfortunately, I couldn't get jQuery to work on the Jupyter notebook, so you have to follow links to get to all of the demos. Sorry :(* \n",
    "  \n",
    "### [Demo: side-by-side JavaScript and jQuery](https://www.w3schools.com/code/tryit.asp?filename=G245A555GCPA)\n"
   ]
  },
  {
   "cell_type": "markdown",
   "metadata": {},
   "source": [
    "## Mini JQuery tutorial\n",
    "There's a lot to JQuery, but here are some JQuery basics here as well as links to a few tutorials!\n",
    "\n",
    "### Accessing elements ([DEMO](https://www.w3schools.com/code/tryit.asp?filename=G245PNFKDQ8Z))\n",
    "The first thing you'll notice when using JQuery is that there is a lot of code that looks like this: `$(/* something */)`. The dollar sign is how we use JQuery, and you can use `$(\"some_html_element)` to access an element by class, ID, or tag name. Look at the [demo](https://www.w3schools.com/code/tryit.asp?filename=G245PNFKDQ8Z) for more info!\n",
    "\n",
    "### Modifying the webpage([DEMO]())\n",
    "JQuery is usually used to modify elements in your html:\n",
    "* CSS: You can use JQuery to change the styling of elements by doing `$(\"element\").css(/*some code*/)`. If you are only changing one style attribute, you put `\"attribute\", \"value\"` inside `css(    ).`\n",
    "    * For instance: `$(\"p\").css(\"color\", \"red\")`\n",
    "    * If you are changing multiple attributes, you want to put an object into `css(    )` (look for the JavaScript section of this notebook for how to use objects in JS!)\n",
    "        * For instance: `$(\"p\").css({\"color\": \"red\", \"border\": \"2px solid green\"})`\n",
    "* Inner html: You can get the html inside an element by using `$(\"element\").html()`, and set it by using `$(\"element\").html(\"new html\")`\n",
    "* Adding elements to the page: you can usually do this using `$(\"outer-element\").append(\"some html\")`, or you can use `prepend` to add the new html to the beginning of the container\n",
    "* [Look here for more ways to use JQuery!](https://www.w3schools.com/jquery/jquery_ref_html.asp)"
   ]
  },
  {
   "cell_type": "markdown",
   "metadata": {},
   "source": [
    "## Challenge: Add to and improve your website using these tips and resources!"
   ]
  }
 ],
 "metadata": {
  "anaconda-cloud": {},
  "kernelspec": {
   "display_name": "Python 3",
   "language": "python",
   "name": "python3"
  },
  "language_info": {
   "codemirror_mode": {
    "name": "ipython",
    "version": 3
   },
   "file_extension": ".py",
   "mimetype": "text/x-python",
   "name": "python",
   "nbconvert_exporter": "python",
   "pygments_lexer": "ipython3",
   "version": "3.6.5"
  }
 },
 "nbformat": 4,
 "nbformat_minor": 1
}
