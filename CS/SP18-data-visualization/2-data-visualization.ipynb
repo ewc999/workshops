{
 "cells": [
  {
   "cell_type": "markdown",
   "metadata": {},
   "source": [
    "# Data Visualization\n",
    "Pokemon Edition"
   ]
  },
  {
   "cell_type": "markdown",
   "metadata": {},
   "source": [
    "## Welcome\n",
    "\n",
    "With our fundamentals covered, we can now turn to analyzing some data. You'll notice that the `data` folder contains [three files](https://github.com/hermish/hkn-workshops/tree/master/data-visualization/data).\n",
    "\n",
    "1. The first one contains the pokemon characteristics (the first column being the id of the pokemon).\n",
    "2. The second one contains information about previous combats. The first two columns contain the ids of the combatants and the third one the id of the winner. Important: The pokemon in the first columns attacks first.\n",
    "\n",
    "Open [these files](https://github.com/hermish/hkn-workshops/tree/master/data-visualization/data) to get a feel for what the raw data looks like: our data is in a `csv` format which stands for comma-separated values. Basically, our data comes in a table, with entries are separated by commas."
   ]
  },
  {
   "cell_type": "markdown",
   "metadata": {},
   "source": [
    "## Reading in Data\n",
    "\n",
    "To be able to do anything with this data, we first need to read the data into python. Luckily, this is such a common task that there are already many tools for working with, reading and visualizing data. Below, we import these functions and read in the data."
   ]
  },
  {
   "cell_type": "code",
   "execution_count": null,
   "metadata": {
    "collapsed": true
   },
   "outputs": [],
   "source": [
    "import numpy as np # linear algebra\n",
    "import pandas as pd # data processing\n",
    "import matplotlib.pyplot as plt # plotting\n",
    "import seaborn as sns # aesthetics\n",
    "%config InlineBackend.figure_format = 'retina'"
   ]
  },
  {
   "cell_type": "code",
   "execution_count": null,
   "metadata": {},
   "outputs": [],
   "source": [
    "# Read pokemon statistics and print first 10 rows out of 800\n",
    "data = pd.read_csv('data/pokemon.csv')\n",
    "print(len(data))\n",
    "data.head(10)"
   ]
  },
  {
   "cell_type": "code",
   "execution_count": null,
   "metadata": {},
   "outputs": [],
   "source": [
    "# Print summary for columns!\n",
    "print(data.info())\n",
    "# Display last 10 rows\n",
    "data.tail(10)"
   ]
  },
  {
   "cell_type": "markdown",
   "metadata": {},
   "source": [
    "## Matplotlib"
   ]
  },
  {
   "cell_type": "markdown",
   "metadata": {},
   "source": [
    "Matplotlib is a python library that help us to plot data: the most basic plots are line, scatter and histogram plots.\n",
    "\n",
    "- Line plots usually used when the x-axis is time\n",
    "- Scatterplots are better when we want to check if there is correlation between two variables\n",
    "- Histograms visualize the distribution of numerical data\n",
    "\n",
    "\n",
    "Matplotlib allows us to customize the colors, labels, thickness of lines, title, opacity, grid, figure size... Basically, we can make any graph conceivable, though some are easier than others."
   ]
  },
  {
   "cell_type": "code",
   "execution_count": null,
   "metadata": {},
   "outputs": [],
   "source": [
    "# LINE PLOTS\n",
    "data['Speed'].plot(\n",
    "    kind='line', # Type of plot\n",
    "    color='blue', # Line color\n",
    "    label='Speed', # Legend name\n",
    "    linewidth=1,\n",
    "    alpha = 0.5, # Transparency\n",
    "    grid = True\n",
    ")\n",
    "data['Defense'].plot(\n",
    "    color='green',\n",
    "    label='Defense',\n",
    "    linewidth=1,\n",
    "    alpha = 0.5,\n",
    "    grid = True\n",
    ")\n",
    "\n",
    "plt.legend(loc='upper right') # legend locations\n",
    "plt.xlabel('Pokemon Number') # x-axis label\n",
    "plt.ylabel('Stat') # y-axis label\n",
    "plt.title('Speed and Defense across Pokemon') # Title\n",
    "plt.show()"
   ]
  },
  {
   "cell_type": "code",
   "execution_count": null,
   "metadata": {},
   "outputs": [],
   "source": [
    "# SCATTER PLOT\n",
    "data.plot(\n",
    "    kind='scatter', # Type of plot\n",
    "    x='Attack', # x-axis column\n",
    "    y='Defense', # y-axis column\n",
    "    alpha = 0.5, # Transparency\n",
    "    color = 'red'\n",
    ")\n",
    "plt.xlabel('Attack') # x-axis label\n",
    "plt.ylabel('Defense') # y-axis label\n",
    "plt.title('Attack-Defense Relationship') # Title\n",
    "plt.show()"
   ]
  },
  {
   "cell_type": "code",
   "execution_count": null,
   "metadata": {},
   "outputs": [],
   "source": [
    "# HISTOGRAM\n",
    "data['Speed'].plot( # Choosing what to plot\n",
    "    kind = 'hist', # Type of plot\n",
    "    bins = 50,\n",
    "    figsize = (15, 15) # Size of graph\n",
    ")\n",
    "plt.show()"
   ]
  },
  {
   "cell_type": "markdown",
   "metadata": {},
   "source": [
    "## Working with Data\n",
    "\n",
    "The table from which we are getting the data from is called a DataFrame. Each of the columns can be thought of as a list or series of data, which can accessed similar to the way we access elements in a list. Below we print out the first defense of the first 10 pokemon and the attack for the first 5."
   ]
  },
  {
   "cell_type": "code",
   "execution_count": null,
   "metadata": {},
   "outputs": [],
   "source": [
    "print(data['Defense'].head(10))\n",
    "print(data['Attack'].head(5))"
   ]
  },
  {
   "cell_type": "markdown",
   "metadata": {},
   "source": [
    "We can then filter easily the data to show all the pokemon with more than 200 defense. We do this by checking if the defense of each row is greater than 200 and then only asking for the rows for which this is true. It turns out that there are only 3 pokemon like this! Change the condition to see what else you can discover."
   ]
  },
  {
   "cell_type": "code",
   "execution_count": null,
   "metadata": {},
   "outputs": [],
   "source": [
    "strong_defenders = data['Defense'] > 200\n",
    "data[strong_defenders]"
   ]
  },
  {
   "cell_type": "markdown",
   "metadata": {},
   "source": [
    "## Data Analysis\n",
    "\n",
    "Now we can analyze of the data on the pokemon—the easiest way to get an idea of how how data looks is to plot some of it and get a few facts about it. Luckily for us, it is really easy to get the following from our table:\n",
    "\n",
    "- count: number of entries\n",
    "- mean: the average numberr, over all pokemon\n",
    "- std: standard deviation, measures how spread out the data is\n",
    "- min: minimum entry\n",
    "- 25%: first quantile (25% are below)\n",
    "- 50%: median or second quantile (50% are below)\n",
    "- 75%: third quantile (75% are below)\n",
    "- max: maximum entry"
   ]
  },
  {
   "cell_type": "code",
   "execution_count": null,
   "metadata": {},
   "outputs": [],
   "source": [
    "data.describe()"
   ]
  },
  {
   "cell_type": "markdown",
   "metadata": {},
   "source": [
    "From this overview, we can easily see the minimimum and maximum for each of these statistics. To visualize this, we often use a boxplot, which allows us to easily picture the average, spread and outliers. The black bars the top and bottom show the maximum and minimum data points. The red line in the middle is at the mean and the box shows the distance from the 25th to the 75th percentile."
   ]
  },
  {
   "cell_type": "code",
   "execution_count": null,
   "metadata": {},
   "outputs": [],
   "source": [
    "data.boxplot(\n",
    "    column='Attack'\n",
    ")\n",
    "plt.show()"
   ]
  },
  {
   "cell_type": "markdown",
   "metadata": {},
   "source": [
    "Notice that some of our pokemon are legendary while others are not. We might guess that the attack of legendary pokemon are greater than non-legendary pokemon. We could test our hypothesis by creating a boxplot for the attacks of each group. We can easily do this using the `by` keyword."
   ]
  },
  {
   "cell_type": "code",
   "execution_count": null,
   "metadata": {
    "scrolled": false
   },
   "outputs": [],
   "source": [
    "data.boxplot(\n",
    "    column='Attack', # Column plotting\n",
    "    by='Legendary' # Group\n",
    ")\n",
    "plt.show()"
   ]
  },
  {
   "cell_type": "markdown",
   "metadata": {},
   "source": [
    "# More\n",
    "\n",
    "Finally, there's a lot more interesting figures we can make using python. For example, when we plotted attack and defense they seemed to be linked or *correlated*.\n",
    "\n",
    "In general, we can test how strongly two variables are correlated they are using the \"Pearson product-moment correlation coefficient.\" This number will always be between +1 and -1. More extreme numbers (near $\\pm1$) mean the correlation is strong, while numbers closer to zero indicate that the variables are less strongly linked.\n",
    "\n",
    "We can visualize how all the variables are correlated by plotting these values in a heat map. The more strongly correlated values are more strongly colored."
   ]
  },
  {
   "cell_type": "code",
   "execution_count": null,
   "metadata": {
    "scrolled": false
   },
   "outputs": [],
   "source": [
    "f, ax = plt.subplots(figsize=(6, 6))\n",
    "sns.heatmap(\n",
    "    data.corr(),\n",
    "    annot=True,\n",
    "    linewidths=.5,\n",
    "    fmt= '.1f',\n",
    "    ax=ax\n",
    ")\n",
    "plt.show()"
   ]
  },
  {
   "cell_type": "markdown",
   "metadata": {
    "collapsed": true
   },
   "source": [
    "## Make your own Graphs!"
   ]
  },
  {
   "cell_type": "code",
   "execution_count": null,
   "metadata": {
    "collapsed": true
   },
   "outputs": [],
   "source": []
  }
 ],
 "metadata": {
  "kernelspec": {
   "display_name": "Python 3",
   "language": "python",
   "name": "python3"
  },
  "language_info": {
   "codemirror_mode": {
    "name": "ipython",
    "version": 3
   },
   "file_extension": ".py",
   "mimetype": "text/x-python",
   "name": "python",
   "nbconvert_exporter": "python",
   "pygments_lexer": "ipython3",
   "version": "3.6.1"
  }
 },
 "nbformat": 4,
 "nbformat_minor": 2
}
