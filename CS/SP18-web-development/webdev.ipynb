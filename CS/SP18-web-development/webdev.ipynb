{
 "cells": [
  {
   "cell_type": "markdown",
   "metadata": {},
   "source": [
    "# Making a Personal Site with HTML/CSS/JavaScript tutorial!\n",
    "\n",
    "In this web development module, we will take you through making a basic webpage using HTML, CSS and JavaScript. This requires no previous coding experience. By the end of this module, you will be able to create a simple webpage on pretty much any topic you want. Have fun!\n",
    "\n",
    "\n",
    "## Table of Contents\n",
    "\n",
    "* [Introduction- What is HTML?](#intro)\n",
    "* [Simple Example](#htmlExample)\n",
    "* [HTML Tags](#tags)\n",
    "* [JavaScript](#js)\n",
    "* [Like Button Example](#jsLikeBtn)"
   ]
  },
  {
   "cell_type": "markdown",
   "metadata": {},
   "source": [
    "<a id='intro'></a>\n",
    "## Introduction - What is HTML?\n",
    "\n",
    "* HTML stands for Hyper Text Markup Language\n",
    "* It describes the structure of Web pages \n",
    "* HTML elements are the building blocks of HTML pages \n",
    "* HTML elements are represented by tags (eg. `<html></html>`). HTML tags label pieces of content such as \"heading\", \"paragraph\", \"table\", and so on. Browsers do not display the HTML tags, but use them to render the content of the page\n",
    "* HTML files are nothing more than simple text files, so to start writing in HTML, you need nothing more than a simple text editor (Notepad on Windows or TextEdit on Mac will work).\n",
    "\n",
    "\n",
    "<a id='htmlExample'></a>\n",
    "## Simple Example\n",
    "Take a look at the HTML code provided below. If it doen't make sense to you, don't worry. We will go through each piece of it in detail. When you have looked at the code, run it and see the output. To run press SHIFT ENTER (ask a mentor if you have any problems)"
   ]
  },
  {
   "cell_type": "code",
   "execution_count": null,
   "metadata": {
    "collapsed": true
   },
   "outputs": [],
   "source": [
    "%%html\n",
    "<!DOCTYPE html>\n",
    "<html>\n",
    "    <head>\n",
    "        <title>Hello World</title>\n",
    "    </head>\n",
    "    <body>\n",
    "        <h1>My First Heading</h1>  \n",
    "        <p>My first paragraph.</p>  \n",
    "    </body>\n",
    "</html>"
   ]
  },
  {
   "cell_type": "markdown",
   "metadata": {},
   "source": [
    "********\n",
    "## Example Explained\n",
    "* The `<!DOCTYPE html>` declaration defines this document to be HTML5\n",
    "* The `<html>` element is the root element of an HTML page. Every html file needs to start with it.\n",
    "* The `<head>` element contains meta information about the document. This will not be printed on the page, but can be used as a reference by web developers.\n",
    "* The `<title>` element specifies a title for the document. This is what appears on the tab of the page when you look at it on a web browser.\n",
    "* The `<body>` element contains the visible page content. Anything you want to display shows up here.\n",
    "* The `<h1>` element defines a large heading. You can adjust the size of the heading to whatever you want (eg h2, h3)\n",
    "* The `<p>` element defines a paragraph\n",
    "\n",
    "#### Slight Modifications\n",
    "Make the following modifications (one at a time) to the code above and re-run the code:\n",
    "1. Replace the header (line 9) with your name and the paragraph (line 10) with your favorite line from a song (we all have one)\n",
    "2. Decrease the size of your name (hint: see the explanation of `<h1>` given above) "
   ]
  },
  {
   "cell_type": "markdown",
   "metadata": {},
   "source": [
    "<a id='tags'></a>\n",
    "# Tags\n",
    "\n",
    "Tags are the basic structure of an HTML document. Tags surround content and apply meaning to it. We have already introduced you some tags (eg. `<h1>, <p>`). Notice that most tags have an opening tag(eg. `<h1>`) and an closing tag (eg. `</h1>`).\n",
    "\n",
    "\n",
    "Here, we introduced more tags to describe your website:\n",
    "1. [Headings (title or titles of the page)](#headings)\n",
    "2. [Paragraphs (longer entries on the page)](#paragraphs)\n",
    "3. [Images](#images)\n",
    "4. [Links (you can link to other favorite websites on your website to share them)](#links)\n"
   ]
  },
  {
   "cell_type": "markdown",
   "metadata": {},
   "source": [
    "## Getting started with a text editor\n",
    "\n",
    "Open any convenient text editor (Sublime Text or Notepad). Sublime is recommended because it will highlight your code to make it more readable. Open the starter.html file, but feel free to rename it as 'Your name.html', with your name used. Once you have done that, right click on the file, and open it using a web browser (E.g. Google Chrome or Safari). You will be able to see your page how it would appear on a website.\n",
    "\n",
    "Congratulations, you have just completed your first webpage! But I'm sure there is alot more you wish to add (more text, images, links, etc)."
   ]
  },
  {
   "cell_type": "markdown",
   "metadata": {},
   "source": [
    "<a id=\"headings\"></a>\n",
    "### Headings\n",
    "Headings are defined with the h1 to h6 tags. They are used for titles, or subtitles. The convention is to use h1 for the main title, and h2 for subtitle, and h3 for the next level of title and so forth."
   ]
  },
  {
   "cell_type": "code",
   "execution_count": null,
   "metadata": {
    "collapsed": true
   },
   "outputs": [],
   "source": [
    "%%html\n",
    "<!DOCTYPE html>\n",
    "<html>\n",
    "    <head>\n",
    "        <title>Hello World</title>\n",
    "    </head>\n",
    "    <body>\n",
    "        <h1>This is an h1 tag, the main title</h1>\n",
    "        <h2>This is an h2 tag</h2>\n",
    "        <h3>This is an h3 tag</h3>\n",
    "        <h4>This is an h4 tag</h4>\n",
    "        <h5>This is an h5 tag</h5>\n",
    "        <h6>This is an h6 tag</h6>\n",
    "\n",
    "    </body>\n",
    "</html>"
   ]
  },
  {
   "cell_type": "markdown",
   "metadata": {},
   "source": [
    "<a id=\"paragraphs\"></a>\n",
    "### Paragraphs\n",
    "\n",
    "Run the following code. (You don't have to read it, but feel free to if you're interested in how a college course works)"
   ]
  },
  {
   "cell_type": "code",
   "execution_count": null,
   "metadata": {
    "collapsed": true
   },
   "outputs": [],
   "source": [
    "%%html\n",
    "<!DOCTYPE html>\n",
    "<html>\n",
    "    <head>\n",
    "        <title>Hello World</title>\n",
    "    </head>\n",
    "    <body>\n",
    "\n",
    "        <p>We can use paragraphs for larger chucks of text that we want on our website. Feel free to use them for descriptions \n",
    "        of yourself or your hobbies.</p>\n",
    "        <p>There is no constraint on how long or how short you make a paragraph, but notice how it is unbolded and is smaller\n",
    "        than headings</p>\n",
    "\n",
    "    </body>\n",
    "</html>"
   ]
  },
  {
   "cell_type": "markdown",
   "metadata": {},
   "source": [
    "<a id=\"images\"></a>\n",
    "### Images\n",
    "Images make a webpage cool, and you can use it to showcase vacation photos or old albums on your facebook. Run the following code, beware the bear will be really big."
   ]
  },
  {
   "cell_type": "code",
   "execution_count": null,
   "metadata": {
    "collapsed": true
   },
   "outputs": [],
   "source": [
    "%%html\n",
    "<!DOCTYPE html>\n",
    "<html>\n",
    "    <head>\n",
    "        <title>Hello World</title>\n",
    "    </head>\n",
    "    <body>\n",
    "        <img src=\"namanbear.jpg\"></img>\n",
    "    </body>\n",
    "</html>"
   ]
  },
  {
   "cell_type": "markdown",
   "metadata": {},
   "source": [
    "### Resizing images\n",
    "One way to resize the image to be smaller is with CSS (Cascading Style Sheets). One way to add styling is to add a style attribute in the tag to change an element's styling. You can also add CSS in an external file. Here is the same bear but resized to the right dimensions"
   ]
  },
  {
   "cell_type": "code",
   "execution_count": null,
   "metadata": {
    "collapsed": true
   },
   "outputs": [],
   "source": [
    "%%html\n",
    "<!DOCTYPE html>\n",
    "<html>\n",
    "    <head>\n",
    "        <title>Hello World</title>\n",
    "    </head>\n",
    "    <body>\n",
    "        <img style=\"width:200px;\" src=\"namanbear.jpg\"></img>\n",
    "    </body>\n",
    "</html>"
   ]
  },
  {
   "cell_type": "markdown",
   "metadata": {},
   "source": [
    "That's much better! Now you know how to harness images in your webpages."
   ]
  },
  {
   "cell_type": "markdown",
   "metadata": {},
   "source": [
    "<a id=\"links\"></a>\n",
    "### Links or the a tag\n",
    "We can also link other websites on our webpage with the a tag just put the link in the href attribute in the tag. \n",
    "### Warning: if you click the link you will leave this page, but you have the option to right click and open the link in another tab."
   ]
  },
  {
   "cell_type": "code",
   "execution_count": null,
   "metadata": {
    "collapsed": true
   },
   "outputs": [],
   "source": [
    "%%html\n",
    "<!DOCTYPE html>\n",
    "<html>\n",
    "    <head>\n",
    "        <title>Hello World</title>\n",
    "    </head>\n",
    "    <body>\n",
    "        <a href=\"google.com\">Google!</a>\n",
    "    </body>\n",
    "</html>"
   ]
  },
  {
   "cell_type": "markdown",
   "metadata": {},
   "source": [
    "### Go Explore!!!\n",
    "Now that you know these basics, go open `starter.html` and play around with the HTML elements that you have learned here.\n",
    "If you want to style stuff up, feel free to ask a mentor, but it will basically be CSS that we used to change the width of the image, but instead use it to change attributes like color, padding, font, etc."
   ]
  },
  {
   "cell_type": "markdown",
   "metadata": {
    "collapsed": true
   },
   "source": [
    "<a id='js'></a>\n",
    "# JavaScript\n",
    "Now, you will learn the basics of a programming language called JavaScript. JavaScript is most often used for web development alongside HTML/CSS. After this tutorial, you will have the opportunity build a simple \"Like\" button!"
   ]
  },
  {
   "cell_type": "markdown",
   "metadata": {},
   "source": [
    "## Basics\n",
    "Click on these links to start exploring the JavaScript world!\n",
    "\n",
    "[1. Printing to Console](https://repl.it/@chonseng/HKNMarkerWorkshopsJS)\n",
    "\n",
    "[2. Variables](https://repl.it/@chonseng/HKNMarkerWorkshopsJSVariables)\n",
    "\n",
    "[3. Booleans](https://repl.it/@chonseng/HKNMarkerWorkshopsJSBooleans)\n",
    "\n",
    "[4. Objects](https://repl.it/@chonseng/HKNMarkerWorkshopsJSObjects)\n",
    "\n",
    "[5. Arrays](https://repl.it/@chonseng/HKNMarkerWorkshopsJSArrays)\n",
    "\n",
    "[6. If Statements](https://repl.it/@chonseng/HKNMarkerWorkshopsJSIf)\n",
    "\n",
    "[7. Functions](https://repl.it/@chonseng/HKNMarkerWorkshopsJSFunctions)\n",
    "\n",
    "Now you know the basics. Let's head into an example."
   ]
  },
  {
   "cell_type": "markdown",
   "metadata": {},
   "source": [
    "<a id=\"jsLikeBtn\"></a>\n",
    "## Like Button Example\n",
    "Let's integrate some JavaScripts to your website!\n",
    "\n",
    "Before writing some JavaScripts, add the following HTML tags inside your `<body>`."
   ]
  },
  {
   "cell_type": "markdown",
   "metadata": {},
   "source": [
    "```html\n",
    "<input type=\"button\" value=\"Like!\" onclick=\"increment();\" />\n",
    "<p>Number of Likes: </p><p id=\"numberOfLikes\">0</p>\n",
    "<script>\n",
    "    /* Write your JavaScript here*/\n",
    "\n",
    "</script>\n",
    "```"
   ]
  },
  {
   "cell_type": "markdown",
   "metadata": {
    "collapsed": true
   },
   "source": [
    "## Example Explained\n",
    "`<input>` element specify an input. There are several types of input (eg. text, button). Here we set `type=\"button\"`. You can try to change the type to \"text\" and see how it changes. \n",
    "\n",
    "* `value=\"Like!\"` specifies the text on the button.\n",
    "\n",
    "* `id=\"numberOfLikes\"` sets a unique ID for the `<p>` tag. It is important that you don't have two tags with the same ID. Later, we can tell the JavaScript to change the `<p>` with an id, \"`numberOfLikes`\". \n",
    "\n",
    "* `onclick=\"increment();\"` adds an event listen to the button. When the button is clicked, the JavaScript function `increment()` will be executed.\n",
    "\n",
    "Inside `<script>` tag, we add the JavaScript."
   ]
  },
  {
   "cell_type": "markdown",
   "metadata": {},
   "source": [
    "## Script\n",
    "```javascript\n",
    "    var like = 0;\n",
    "    function increment() {\n",
    "        like++;\n",
    "        document.getElementById(\"numberOfLikes\").innerHTML = like;\n",
    "    }\n",
    "```"
   ]
  },
  {
   "cell_type": "markdown",
   "metadata": {},
   "source": [
    "## Script Explained\n",
    "Before we explain the code, could you guess what it is doing?\n",
    "\n",
    "* `like++` is a shortcut for `like = like + 1`.\n",
    "\n",
    "* `document.getElementById(\"numberOfLikes\")` selects the HTML tag with an id, \"numberOfLikes\".\n",
    "\n",
    "* `document.getElementById(\"numberOfLikes\").innerHTML = like` changes the HTML to the value of `like`. \n",
    "\n",
    "\n",
    "Overall, we set the variable `like` equals 0. When the button is clicked, `increment()` function will be executed. The function will first increment the value of the variable `like`. Then, it will change the HTML of the element with the ID, \"numberOfLikes\", (ie. `<p id=\"numberOfLikes\">`) to the value of the variable `like`."
   ]
  },
  {
   "cell_type": "markdown",
   "metadata": {},
   "source": [
    "## Finished Code\n",
    "Run the code to preview the result."
   ]
  },
  {
   "cell_type": "code",
   "execution_count": null,
   "metadata": {},
   "outputs": [],
   "source": [
    "%%html\n",
    "<!DOCTYPE html>\n",
    "<html>\n",
    "    <head>\n",
    "        <title>Hello World</title>\n",
    "    </head>\n",
    "    <body>\n",
    "        <input type=\"button\" value=\"Like!\" onclick=\"increment();\" />\n",
    "        <p>Number of Likes: </p><p id=\"numberOfLikes\">0</p>\n",
    "        <script>\n",
    "            var like = 0;\n",
    "            function increment() {\n",
    "                like++;\n",
    "                document.getElementById(\"numberOfLikes\").innerHTML = like;\n",
    "            }\n",
    "        </script>\n",
    "    </body>\n",
    "</html>"
   ]
  },
  {
   "cell_type": "markdown",
   "metadata": {
    "collapsed": true
   },
   "source": [
    "## Add more buttons and JavaScript!\n",
    "Try to add a button that shows your secret hobbies!\n",
    "\n",
    "Hints: You may want to add an HTML tag `<li id=\"secret\">Secret</li>` to your hobby list and some JavaScript to change the text! Feel free to ask the mentors or look at `finished.html`. Have fun!"
   ]
  }
 ],
 "metadata": {
  "anaconda-cloud": {},
  "kernelspec": {
   "display_name": "Python 3",
   "language": "python",
   "name": "python3"
  },
  "language_info": {
   "codemirror_mode": {
    "name": "ipython",
    "version": 3
   },
   "file_extension": ".py",
   "mimetype": "text/x-python",
   "name": "python",
   "nbconvert_exporter": "python",
   "pygments_lexer": "ipython3",
   "version": "3.6.1"
  }
 },
 "nbformat": 4,
 "nbformat_minor": 1
}
