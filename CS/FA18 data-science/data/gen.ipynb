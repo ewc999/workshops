{
 "cells": [
  {
   "cell_type": "code",
   "execution_count": 1,
   "metadata": {},
   "outputs": [],
   "source": [
    "import numpy as np # linear algebra\n",
    "import pandas as pd # data processing\n",
    "import matplotlib.pyplot as plt # plotting\n",
    "import seaborn as sns # aesthetics\n",
    "%config InlineBackend.figure_format = 'retina'\n",
    "    "
   ]
  },
  {
   "cell_type": "code",
   "execution_count": null,
   "metadata": {},
   "outputs": [],
   "source": [
    "pokemon = pd.read_csv('pokemon.csv')\n",
    "combats = pd.read_csv('combats.csv')\n",
    "data = pd.DataFrame(combats)\n",
    "\n",
    "for i in range(len(data)):\n",
    "    id_1 = combats['First_pokemon'][i]\n",
    "    id_2 = combats['Second_pokemon'][i]\n",
    "    id_3 = combats['Winner'][i]\n",
    "    \n",
    "    for c in pokemon.columns[1:]:\n",
    "        data.at[i, 'First_' + c] = pokemon[c][id_1 - 1]\n",
    "        data.at[i, 'Second_' + c] = pokemon[c][id_2 - 1]\n",
    "        data.at[i, 'Winner_' + c] = pokemon[c][id_3 - 1]\n",
    "\n",
    "data.head(10) "
   ]
  },
  {
   "cell_type": "code",
   "execution_count": 66,
   "metadata": {},
   "outputs": [],
   "source": [
    "data.to_csv('detailed_combats.csv', sep='\\t', encoding='utf-8')"
   ]
  }
 ],
 "metadata": {
  "kernelspec": {
   "display_name": "Python 3",
   "language": "python",
   "name": "python3"
  },
  "language_info": {
   "codemirror_mode": {
    "name": "ipython",
    "version": 3
   },
   "file_extension": ".py",
   "mimetype": "text/x-python",
   "name": "python",
   "nbconvert_exporter": "python",
   "pygments_lexer": "ipython3",
   "version": "3.7.0"
  }
 },
 "nbformat": 4,
 "nbformat_minor": 2
}
