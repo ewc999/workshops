{
 "cells": [
  {
   "cell_type": "markdown",
   "metadata": {},
   "source": [
    "# Buzzfeed Quiz Design\n",
    "We are going to build a buzzfeed quiz: https://www.buzzfeed.com/quizzes where a user answers a series of questions to place them in one of four catagories\n",
    "\n",
    "The way the buzzfeed quizes works is simple. Let's use the example of the Quiz _Which Harry Potter Character are You_. There is some number of possible catagories for the user to \"be\", like Harry, Ron, Hermone, or Hagrid.\n",
    "\n",
    "With each question asked, there is one point added to one of the catagories depending on the users answer. For example, if the question was which is your favorite animal, and the user selected rat, that would be a point for Ron.\n"
   ]
  },
  {
   "cell_type": "markdown",
   "metadata": {},
   "source": [
    "## Step 1: Get user input\n",
    "Getting user input is key for this game. How else will we be able to get them to answer their questions? \n",
    "`input()` is the python function that allows us to get input.\n",
    "Let's see it in action below."
   ]
  },
  {
   "cell_type": "code",
   "execution_count": 1,
   "metadata": {},
   "outputs": [
    {
     "name": "stdout",
     "output_type": "stream",
     "text": [
      "How many dogs do you have?\n",
      "You have  dogs\n"
     ]
    }
   ],
   "source": [
    "#Delete This When Exporting\n",
    "user_input = input(\"How many dogs do you have?\")\n",
    "print(\"You have\", user_input, \"dogs\")"
   ]
  },
  {
   "cell_type": "markdown",
   "metadata": {},
   "source": [
    "Now we can get the user input with a dummy question."
   ]
  },
  {
   "cell_type": "code",
   "execution_count": 2,
   "metadata": {},
   "outputs": [
    {
     "name": "stdout",
     "output_type": "stream",
     "text": [
      "Choose your favorite animal: Dog, Rat, Goose, Badger \n",
      "Your favorite animal is \n"
     ]
    }
   ],
   "source": [
    "#Delete This When Exporting\n",
    "user_input = input(\"Choose your favorite animal: Dog, Rat, Goose, Badger \")\n",
    "option_selected = str(user_input)\n",
    "print(\"Your favorite animal is\", option_selected)"
   ]
  },
  {
   "cell_type": "markdown",
   "metadata": {},
   "source": [
    "## Step 2: Lists and Dictionaries\n",
    "Great! Now we need a way to store our information and organize our code. We will be using two very important data structures: lists and dictionaries."
   ]
  },
  {
   "cell_type": "markdown",
   "metadata": {},
   "source": [
    "Lists (also called arrays in other languages) allow us to store multiple values in one variable. You can then access the values by indexing (choosing the location of the entry) into the list, as we'll see below. Note that lists are kind of weird, in that the first index is actually position zero."
   ]
  },
  {
   "cell_type": "code",
   "execution_count": 3,
   "metadata": {},
   "outputs": [
    {
     "ename": "SyntaxError",
     "evalue": "invalid syntax (<ipython-input-3-dd926b1ac3bf>, line 12)",
     "output_type": "error",
     "traceback": [
      "\u001b[0;36m  File \u001b[0;32m\"<ipython-input-3-dd926b1ac3bf>\"\u001b[0;36m, line \u001b[0;32m12\u001b[0m\n\u001b[0;31m    info[0] = #TODO: replace_this\u001b[0m\n\u001b[0m                                 ^\u001b[0m\n\u001b[0;31mSyntaxError\u001b[0m\u001b[0;31m:\u001b[0m invalid syntax\n"
     ]
    }
   ],
   "source": [
    "#Delete This When Exporting\n",
    "# We create the list here, starting with your first and last name in the\n",
    "# first two positions. Notice how we can use values and variables\n",
    "# interchangeably.\n",
    "info = [\"dog\", \"rat\", \"goose\"]\n",
    "\n",
    "# We print out the first value of the list, by indexing into position zero\n",
    "print(\"info[0]: \" + info[0])\n",
    "\n",
    "# We can also change the value at a particular index in the list. Try\n",
    "# replacing dog with cat.\n",
    "info[0] = #TODO: replace_this\n",
    "\n",
    "# Notice how the value at info[0] changed?\n",
    "print(\"info[0], changed: \" + info[0])\n",
    "\n",
    "# We can also just print out the whole list!\n",
    "print(\"info:\", info)\n",
    "\n",
    "# We can even add badger!\n",
    "info = info + [\"badger\"]\n",
    "\n",
    "print(\"info:\", info)"
   ]
  },
  {
   "cell_type": "markdown",
   "metadata": {},
   "source": [
    "Lists are super useful in many different situations. In the next step we will use them to hold our questions. Dictionaries are like lists, but without an order (so no indicies). Instead, they work like a regular dictionary. Each entry is a key value pair like (\"hello\", \"world\"). Let's try it out."
   ]
  },
  {
   "cell_type": "code",
   "execution_count": 47,
   "metadata": {},
   "outputs": [
    {
     "name": "stdout",
     "output_type": "stream",
     "text": [
      "entry\n",
      "world\n"
     ]
    }
   ],
   "source": [
    "#Delete This When Exporting\n",
    "#Creating a dictionary with 1 entry\n",
    "dictionary = {\"hello\": \"world\"}\n",
    "\n",
    "#Adding a new entry with \"new\" as the key and \"entry\" as the value\n",
    "dictionary[\"new\"] = \"entry\"\n",
    "\n",
    "#Now we can retrieve things based off of their key\n",
    "print(dictionary[\"new\"])\n",
    "\n",
    "#TODO: change the value of \"hello\" to something else.\n",
    "\n",
    "print(dictionary[\"hello\"])\n"
   ]
  },
  {
   "cell_type": "markdown",
   "metadata": {},
   "source": [
    "## Step 3: Build the infastructure!\n",
    "Combining what we know about inputs, lists, and dictionaries, we can start building our quiz! First, we need to define our categories."
   ]
  },
  {
   "cell_type": "code",
   "execution_count": 61,
   "metadata": {},
   "outputs": [
    {
     "ename": "SyntaxError",
     "evalue": "invalid syntax (<ipython-input-61-d00114dac940>, line 12)",
     "output_type": "error",
     "traceback": [
      "\u001b[0;36m  File \u001b[0;32m\"<ipython-input-61-d00114dac940>\"\u001b[0;36m, line \u001b[0;32m12\u001b[0m\n\u001b[0;31m    category_list = #Your code Here\u001b[0m\n\u001b[0m                                   ^\u001b[0m\n\u001b[0;31mSyntaxError\u001b[0m\u001b[0;31m:\u001b[0m invalid syntax\n"
     ]
    }
   ],
   "source": [
    "#TODO: Define your categories Ex. Harry, Dumbledoor, etc.\n",
    "category_1 = \"Your Cateogory Here\"\n",
    "category_2 = \"Your Cateogory Here\"\n",
    "category_3 = \"Your Cateogory Here\"\n",
    "category_4 = \"Your Cateogory Here\"\n",
    "\n",
    "#TODO: add these category names to a new list for later use\n",
    "\n",
    "category_list = #Your code Here"
   ]
  },
  {
   "cell_type": "markdown",
   "metadata": {},
   "source": [
    "Now we need a way to store the points for each possible catagory. How can we use a dictionary to do this? Each category should have 0 points to start with."
   ]
  },
  {
   "cell_type": "code",
   "execution_count": 49,
   "metadata": {},
   "outputs": [],
   "source": [
    "#Creating an empty dictionary. We will be using this \n",
    "# dictionary to keep track of scores for each category!\n",
    "points_dictionary = {}\n",
    "#TODO: make entries for each category in this dictionary\n",
    "\n",
    "points_dictionary[_____] = ___\n",
    "#Your Code here\n",
    "#Your Code here\n",
    "#Your Code here"
   ]
  },
  {
   "cell_type": "markdown",
   "metadata": {},
   "source": [
    "Now, let's create a function to update the points for each category. \n",
    "\n",
    "Functions allow you to write a section of code once and easily reuse it elsewhere in your program. Here's an example:"
   ]
  },
  {
   "cell_type": "code",
   "execution_count": 50,
   "metadata": {},
   "outputs": [
    {
     "name": "stdout",
     "output_type": "stream",
     "text": [
      "['bird', 'bird']\n"
     ]
    }
   ],
   "source": [
    "#Delete This When Exporting\n",
    "#A temporary empty list we will use\n",
    "info = []\n",
    "#This function adds something to our info list twice \n",
    "# and prints the list\n",
    "def add_to_info_print(new_thing):\n",
    "    #append just adds something to the end of the list\n",
    "    info.append(new_thing)\n",
    "    info.append(new_thing)\n",
    "    print(info)\n",
    "    \n",
    "add_to_info_print(\"bird\")"
   ]
  },
  {
   "cell_type": "code",
   "execution_count": 51,
   "metadata": {},
   "outputs": [
    {
     "ename": "SyntaxError",
     "evalue": "unexpected EOF while parsing (<ipython-input-51-74bb3a05ab90>, line 4)",
     "output_type": "error",
     "traceback": [
      "\u001b[0;36m  File \u001b[0;32m\"<ipython-input-51-74bb3a05ab90>\"\u001b[0;36m, line \u001b[0;32m4\u001b[0m\n\u001b[0;31m    #Your code here\u001b[0m\n\u001b[0m                   ^\u001b[0m\n\u001b[0;31mSyntaxError\u001b[0m\u001b[0;31m:\u001b[0m unexpected EOF while parsing\n"
     ]
    }
   ],
   "source": [
    "#TODO: implement update_points to add points (a number) to \n",
    "# points_dictionary based off of the category given\n",
    "\n",
    "def update_points(points, category):\n",
    "    #Your code here"
   ]
  },
  {
   "cell_type": "markdown",
   "metadata": {},
   "source": [
    "## Step 4: Build a Question Bank\n",
    "Since we will go through the questions one at a time, we should keep them all in a list. A question has two parts. One is the question itself, two is the possible answers. We can store this as a tuple (like a list, but you can't change their values after creation). Using a string as the first element and an array of possible answers as the second. We're putting a list inside of a tuple inside of a list! In python, lists don't care what is inside of them which is pretty cool!"
   ]
  },
  {
   "cell_type": "code",
   "execution_count": 75,
   "metadata": {},
   "outputs": [],
   "source": [
    "# We will use this left to store all the questions for our quiz\n",
    "question_bank = []\n",
    "\n",
    "#TODO: add your questions with answers using the template. Feel free to add \n",
    "# more if you have the time later\n",
    "#For simplicity, let answer1 correspond to category1,\n",
    "# answer2 for category2, etc.\n",
    "question_1 = [\"Your Question Here\", [\"answer1\", \"answer2\", \"answer3\", \"answer4\"]]\n",
    "question_2 = [\"Your Question Here\", [\"answer1\", \"answer2\", \"answer3\", \"answer4\"]]\n",
    "question_3 = [\"Your Question Here\", [\"answer1\", \"answer2\", \"answer3\", \"answer4\"]]\n",
    "question_4 = [\"Your Question Here\", [\"answer1\", \"answer2\", \"answer3\", \"answer4\"]]\n",
    "question_5 = [\"Your Question Here\", [\"answer1\", \"answer2\", \"answer3\", \"answer4\"]]\n",
    "question_6 = [\"Your Question Here\", [\"answer1\", \"answer2\", \"answer3\", \"answer4\"]]\n",
    "\n",
    "#TODO: now add them to question_bank. \n",
    "#Hint: how did we add things to info in a function?\n",
    "\n",
    "#Your code here\n"
   ]
  },
  {
   "cell_type": "markdown",
   "metadata": {},
   "source": [
    "## Step 4: Loops"
   ]
  },
  {
   "cell_type": "markdown",
   "metadata": {},
   "source": [
    "Alright! Now we have our questions and our points dictionary. We have to figure out how to translate user's answers into the categories so we know which one to add points to. We could use... another dictionary! Creating this dictionary one element at a time would take a while, so let's use a for loop."
   ]
  },
  {
   "cell_type": "markdown",
   "metadata": {},
   "source": [
    "For loops are another essential part of coding. They do something multiple times. Here's a few examples:"
   ]
  },
  {
   "cell_type": "code",
   "execution_count": 62,
   "metadata": {},
   "outputs": [
    {
     "name": "stdout",
     "output_type": "stream",
     "text": [
      "0\n",
      "1\n",
      "bird\n",
      "bird\n",
      "0 0\n",
      "0 1\n",
      "1 0\n",
      "1 1\n",
      "2 0\n",
      "2 1\n"
     ]
    }
   ],
   "source": [
    "#Delete This When Exporting\n",
    "#i starts at 0 and goes up to 2, but not including it\n",
    "for i in range(2):\n",
    "    print(i)\n",
    "\n",
    "#For loops can also loop through lists. the thing variable represents each element in the list and changes each time we loop\n",
    "for thing in info:\n",
    "    print(thing)\n",
    "\n",
    "#This is called a nested \"for loop\". It starts with i=0, then loops through j. When the inside one is finished, i increments\n",
    "for i in range(3):\n",
    "    for j in range(2):\n",
    "        print(i, j)"
   ]
  },
  {
   "cell_type": "markdown",
   "metadata": {},
   "source": [
    "Now let's use for loops to create our dictionary. We are trying to loop through our questions and our answers. What should we be using for the key value pairs? Hint: what are we putting in and what do we want to get out? You'll probably want to use a nested for loop."
   ]
  },
  {
   "cell_type": "code",
   "execution_count": 63,
   "metadata": {},
   "outputs": [
    {
     "ename": "NameError",
     "evalue": "name '_____' is not defined",
     "output_type": "error",
     "traceback": [
      "\u001b[0;31m---------------------------------------------------------------------------\u001b[0m",
      "\u001b[0;31mNameError\u001b[0m                                 Traceback (most recent call last)",
      "\u001b[0;32m<ipython-input-63-627f65f53644>\u001b[0m in \u001b[0;36m<module>\u001b[0;34m\u001b[0m\n\u001b[1;32m      1\u001b[0m \u001b[0;31m#TODO: Create a new dictionary that links answers to categories. Fill in the blanks\u001b[0m\u001b[0;34m\u001b[0m\u001b[0;34m\u001b[0m\u001b[0;34m\u001b[0m\u001b[0m\n\u001b[1;32m      2\u001b[0m \u001b[0mans_to_cat\u001b[0m \u001b[0;34m=\u001b[0m \u001b[0;34m{\u001b[0m\u001b[0;34m}\u001b[0m\u001b[0;34m\u001b[0m\u001b[0;34m\u001b[0m\u001b[0m\n\u001b[0;32m----> 3\u001b[0;31m \u001b[0;32mfor\u001b[0m \u001b[0m_____\u001b[0m \u001b[0;32min\u001b[0m \u001b[0m_____\u001b[0m\u001b[0;34m:\u001b[0m\u001b[0;34m\u001b[0m\u001b[0;34m\u001b[0m\u001b[0m\n\u001b[0m\u001b[1;32m      4\u001b[0m     \u001b[0;32mfor\u001b[0m \u001b[0mi\u001b[0m \u001b[0;32min\u001b[0m \u001b[0mrange\u001b[0m\u001b[0;34m(\u001b[0m\u001b[0;36m4\u001b[0m\u001b[0;34m)\u001b[0m\u001b[0;34m:\u001b[0m\u001b[0;34m\u001b[0m\u001b[0;34m\u001b[0m\u001b[0m\n\u001b[1;32m      5\u001b[0m         \u001b[0mans_to_cat\u001b[0m\u001b[0;34m[\u001b[0m\u001b[0m_____\u001b[0m\u001b[0;34m[\u001b[0m\u001b[0;36m1\u001b[0m\u001b[0;34m]\u001b[0m\u001b[0;34m[\u001b[0m\u001b[0m_\u001b[0m\u001b[0;34m]\u001b[0m\u001b[0;34m]\u001b[0m \u001b[0;34m=\u001b[0m \u001b[0mcategory_list\u001b[0m\u001b[0;34m[\u001b[0m\u001b[0m___\u001b[0m\u001b[0;34m]\u001b[0m\u001b[0;34m\u001b[0m\u001b[0;34m\u001b[0m\u001b[0m\n",
      "\u001b[0;31mNameError\u001b[0m: name '_____' is not defined"
     ]
    }
   ],
   "source": [
    "#TODO: Create a new dictionary that links answers to categories. Fill in the blanks\n",
    "\n",
    "ans_to_cat = {}\n",
    "for _____ in _____:\n",
    "    for i in range(4):\n",
    "        ans_to_cat[_____[1][_]] = category_list[___]"
   ]
  },
  {
   "cell_type": "markdown",
   "metadata": {},
   "source": [
    "We can now switch up the order of the answer choices for every question for some variation! This will not effect the associations between answers and categories because we already created our dictionary ans_to_cat!"
   ]
  },
  {
   "cell_type": "markdown",
   "metadata": {},
   "source": [
    "A useful utility for sorting arrays is using the shuffle method. Here is an example of it in use:"
   ]
  },
  {
   "cell_type": "code",
   "execution_count": 73,
   "metadata": {},
   "outputs": [
    {
     "name": "stdout",
     "output_type": "stream",
     "text": [
      "[3, 2, 5, 4, 1, 6]\n"
     ]
    }
   ],
   "source": [
    "#Delete This When Exporting\n",
    "import random\n",
    "Numbers = [1,2,3,4,5,6]\n",
    "\n",
    "#Shuffle!\n",
    "random.shuffle(Numbers)\n",
    "\n",
    "print(Numbers)"
   ]
  },
  {
   "cell_type": "code",
   "execution_count": 76,
   "metadata": {},
   "outputs": [
    {
     "ename": "SyntaxError",
     "evalue": "unexpected EOF while parsing (<ipython-input-76-8ad05a630afc>, line 5)",
     "output_type": "error",
     "traceback": [
      "\u001b[0;36m  File \u001b[0;32m\"<ipython-input-76-8ad05a630afc>\"\u001b[0;36m, line \u001b[0;32m5\u001b[0m\n\u001b[0;31m    #Your Code Here\u001b[0m\n\u001b[0m                   ^\u001b[0m\n\u001b[0;31mSyntaxError\u001b[0m\u001b[0;31m:\u001b[0m unexpected EOF while parsing\n"
     ]
    }
   ],
   "source": [
    "#TODO: Use a loop and the random method to shuffle up the answer choices for your questions!\n",
    "#Hint: Remember that our list of answer choices is the second element of our question list!\n",
    "\n",
    "for ______ in _______:\n",
    "    #Your Code Here"
   ]
  },
  {
   "cell_type": "markdown",
   "metadata": {},
   "source": [
    "## Step 5: Putting it all together"
   ]
  },
  {
   "cell_type": "markdown",
   "metadata": {},
   "source": [
    "We are almost done! Now it is time to run the quiz and display some information about it"
   ]
  },
  {
   "cell_type": "code",
   "execution_count": 80,
   "metadata": {},
   "outputs": [
    {
     "name": "stdout",
     "output_type": "stream",
     "text": [
      "\n"
     ]
    }
   ],
   "source": [
    "#TODO: Print out some text welcoming the user to the game and its title\n",
    "\n",
    "print(#Your code here)"
   ]
  },
  {
   "cell_type": "code",
   "execution_count": 65,
   "metadata": {},
   "outputs": [
    {
     "ename": "NameError",
     "evalue": "name '_________' is not defined",
     "output_type": "error",
     "traceback": [
      "\u001b[0;31m---------------------------------------------------------------------------\u001b[0m",
      "\u001b[0;31mNameError\u001b[0m                                 Traceback (most recent call last)",
      "\u001b[0;32m<ipython-input-65-cefc7801e985>\u001b[0m in \u001b[0;36m<module>\u001b[0;34m\u001b[0m\n\u001b[1;32m      1\u001b[0m \u001b[0;31m#TODO: Now loop through the questions, and use our function from\u001b[0m\u001b[0;34m\u001b[0m\u001b[0;34m\u001b[0m\u001b[0;34m\u001b[0m\u001b[0m\n\u001b[1;32m      2\u001b[0m \u001b[0;31m#part 3 to update the points dictionary based on the user inputs.\u001b[0m\u001b[0;34m\u001b[0m\u001b[0;34m\u001b[0m\u001b[0;34m\u001b[0m\u001b[0m\n\u001b[0;32m----> 3\u001b[0;31m \u001b[0;32mfor\u001b[0m \u001b[0m____\u001b[0m \u001b[0;32min\u001b[0m \u001b[0m_________\u001b[0m\u001b[0;34m:\u001b[0m\u001b[0;34m\u001b[0m\u001b[0;34m\u001b[0m\u001b[0m\n\u001b[0m\u001b[1;32m      4\u001b[0m     \u001b[0mquestion_string\u001b[0m \u001b[0;34m=\u001b[0m \u001b[0m_________\u001b[0m\u001b[0;34m[\u001b[0m\u001b[0;36m0\u001b[0m\u001b[0;34m]\u001b[0m \u001b[0;34m+\u001b[0m \u001b[0;34m\"\\n\"\u001b[0m\u001b[0;34m\u001b[0m\u001b[0;34m\u001b[0m\u001b[0m\n\u001b[1;32m      5\u001b[0m     \u001b[0mquestion_string\u001b[0m \u001b[0;34m+=\u001b[0m \u001b[0;34m\"Answer choices: \"\u001b[0m\u001b[0;34m\u001b[0m\u001b[0;34m\u001b[0m\u001b[0m\n",
      "\u001b[0;31mNameError\u001b[0m: name '_________' is not defined"
     ]
    }
   ],
   "source": [
    "#TODO: Now loop through the questions, and use our function from \n",
    "#part 4 to update the points dictionary based on the user inputs. \n",
    "\n",
    "for ____ in _________:\n",
    "    question_string = _________[0] + \"\\n\"\n",
    "    question_string += \"Answer choices: \"\n",
    "    for answer in ________:\n",
    "        question_string += answer + \", \"\n",
    "    user_answer = input(question_string)\n",
    "    update_points(1, ans_to_cat[user_answer])"
   ]
  },
  {
   "cell_type": "markdown",
   "metadata": {},
   "source": [
    "Tell the user what catagory they belong to! Hint: make sure the values in the dictionary are integers and use the max function"
   ]
  },
  {
   "cell_type": "code",
   "execution_count": 66,
   "metadata": {},
   "outputs": [
    {
     "name": "stdout",
     "output_type": "stream",
     "text": [
      "elephant\n"
     ]
    }
   ],
   "source": [
    "#Delete This When Exporting\n",
    "#Here is an example of the max function in use:\n",
    "\n",
    "animal_size = {'mouse':1, 'cat':5, 'elephant': 30}\n",
    "\n",
    "largest_animal = max(animal_size, key=animal_size.get)\n",
    "\n",
    "#Notice how our statement prints the key corresponding corresponding with\n",
    "# the largest value\n",
    "print(largest_animal)"
   ]
  },
  {
   "cell_type": "code",
   "execution_count": 67,
   "metadata": {},
   "outputs": [
    {
     "ename": "SyntaxError",
     "evalue": "unexpected EOF while parsing (<ipython-input-67-b20b3c33234d>, line 4)",
     "output_type": "error",
     "traceback": [
      "\u001b[0;36m  File \u001b[0;32m\"<ipython-input-67-b20b3c33234d>\"\u001b[0;36m, line \u001b[0;32m4\u001b[0m\n\u001b[0;31m    print(#Your Code Here)\u001b[0m\n\u001b[0m                          ^\u001b[0m\n\u001b[0;31mSyntaxError\u001b[0m\u001b[0;31m:\u001b[0m unexpected EOF while parsing\n"
     ]
    }
   ],
   "source": [
    "#TODO tell user what catagory they belong to\n",
    "\n",
    "result_category = max(__________, key=__________.get)\n",
    "print(#Your Code Here)\n"
   ]
  },
  {
   "cell_type": "markdown",
   "metadata": {},
   "source": [
    "## Step 6: Share your quiz!"
   ]
  },
  {
   "cell_type": "markdown",
   "metadata": {},
   "source": [
    "Congratulations! You finished your very own buzz-feed quiz. Now you can follow these steps to send it to your friends for them to take it. \n",
    "1. There are some cells that will produce some unwanted output if we export it right now, so you need to delete all the cells that contain the message \"#Delete This When Exporting\" (cmd/ctrl + F is useful)\n",
    "2. You can delete the cell by clicking the \"cut\" button on the top menu; It is the button with the scissor symbol\n",
    "3. Once these cells have been deleted, go to the top menu and select \"File\" -> \"Download As\" -> \"Python (.py)\"\n",
    "4. Check your downloads folder for the .py file that was just exported\n",
    "5. You can share this file with your friends and they can run it to take your quiz!"
   ]
  },
  {
   "cell_type": "markdown",
   "metadata": {},
   "source": [
    "Running the code:\n",
    "1. Download the quiz\n",
    "2. Open terminal and navigate to the file. Ex. type \"cd Downloads/\" if the file is in the Downloads folder\n",
    "3. Once in the folder, type \"python3 *quizname*.py\""
   ]
  },
  {
   "cell_type": "code",
   "execution_count": null,
   "metadata": {},
   "outputs": [],
   "source": []
  }
 ],
 "metadata": {
  "kernelspec": {
   "display_name": "Python 3",
   "language": "python",
   "name": "python3"
  },
  "language_info": {
   "codemirror_mode": {
    "name": "ipython",
    "version": 3
   },
   "file_extension": ".py",
   "mimetype": "text/x-python",
   "name": "python",
   "nbconvert_exporter": "python",
   "pygments_lexer": "ipython3",
   "version": "3.7.3"
  }
 },
 "nbformat": 4,
 "nbformat_minor": 2
}
