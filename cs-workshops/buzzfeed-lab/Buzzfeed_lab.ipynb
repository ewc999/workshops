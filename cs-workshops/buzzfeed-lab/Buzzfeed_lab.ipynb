{
 "cells": [
  {
   "cell_type": "markdown",
   "metadata": {},
   "source": [
    "# Buzzfeed Quiz Design\n",
    "We are going to build a buzzfeed quiz: https://www.buzzfeed.com/quizzes where a user answers a series of questions to place them in one of four catagories\n",
    "\n",
    "The way the buzzfeed quizes works is simple. Let's use the example of the Quiz _Which Harry Potter Character are You_. There is some number of possible catagories for the user to \"be\", like Harry, Ron, Hermone, or Hagrid.\n",
    "\n",
    "With each question asked, there is one point added to one of the catagories depending on the users answer. For example, if the question was which is your favorite animal, and the user selected rat, that would be a point for Ron.\n"
   ]
  },
  {
   "cell_type": "markdown",
   "metadata": {},
   "source": [
    "## Step 1: Get user input\n",
    "Getting user input is key for this game. How else will we be able to get them to answer their questions? \n",
    "`input()` is the python function that allows us to get input.\n",
    "Let's see it in action below."
   ]
  },
  {
   "cell_type": "code",
   "execution_count": 4,
   "metadata": {},
   "outputs": [
    {
     "name": "stdout",
     "output_type": "stream",
     "text": [
      "Tell me how many dogs you have? \n",
      "You have  dogs\n"
     ]
    }
   ],
   "source": [
    "user_input = input(\"How many dogs do you have?\")\n",
    "print(\"You have\", user_input, \"dogs\")"
   ]
  },
  {
   "cell_type": "markdown",
   "metadata": {},
   "source": [
    "Now we can get the user input with a dummy question."
   ]
  },
  {
   "cell_type": "code",
   "execution_count": 5,
   "metadata": {},
   "outputs": [
    {
     "name": "stdout",
     "output_type": "stream",
     "text": [
      "What is your favorite animal: 1 – Dog, 2 – Rat, 3 – Goose, 4 – Badger \n"
     ]
    },
    {
     "ename": "ValueError",
     "evalue": "invalid literal for int() with base 10: ''",
     "output_type": "error",
     "traceback": [
      "\u001b[1;31m---------------------------------------------------------------------------\u001b[0m",
      "\u001b[1;31mValueError\u001b[0m                                Traceback (most recent call last)",
      "\u001b[1;32m<ipython-input-5-9cff9d3fffa7>\u001b[0m in \u001b[0;36m<module>\u001b[1;34m\u001b[0m\n\u001b[0;32m      1\u001b[0m \u001b[0muser_input\u001b[0m \u001b[1;33m=\u001b[0m \u001b[0minput\u001b[0m\u001b[1;33m(\u001b[0m\u001b[1;34m\"What is your favorite animal: 1 – Dog, 2 – Rat, 3 – Goose, 4 – Badger \"\u001b[0m\u001b[1;33m)\u001b[0m\u001b[1;33m\u001b[0m\u001b[1;33m\u001b[0m\u001b[0m\n\u001b[1;32m----> 2\u001b[1;33m \u001b[0moption_selected\u001b[0m \u001b[1;33m=\u001b[0m \u001b[0mint\u001b[0m\u001b[1;33m(\u001b[0m\u001b[0muser_input\u001b[0m\u001b[1;33m)\u001b[0m\u001b[1;33m\u001b[0m\u001b[1;33m\u001b[0m\u001b[0m\n\u001b[0m\u001b[0;32m      3\u001b[0m \u001b[0mprint\u001b[0m\u001b[1;33m(\u001b[0m\u001b[1;34m\"You selected option\"\u001b[0m\u001b[1;33m,\u001b[0m \u001b[0moption_selected\u001b[0m\u001b[1;33m)\u001b[0m\u001b[1;33m\u001b[0m\u001b[1;33m\u001b[0m\u001b[0m\n",
      "\u001b[1;31mValueError\u001b[0m: invalid literal for int() with base 10: ''"
     ]
    }
   ],
   "source": [
    "user_input = input(\"Choose your favorite animal: Dog, Rat, Goose, Badger \")\n",
    "option_selected = int(user_input)\n",
    "print(\"Your favorite animal is\", option_selected)"
   ]
  },
  {
   "cell_type": "markdown",
   "metadata": {},
   "source": [
    "## Step 2: Lists and Dictionaries\n",
    "Great! Now we need a way to store our information and organize our code. We will be using two very important data structures: lists and dictionaries."
   ]
  },
  {
   "cell_type": "markdown",
   "metadata": {},
   "source": [
    "Lists (also called arrays in other languages) allow us to store multiple values in one variable. You can then access the values by indexing (choosing the location of the entry) into the list, as we'll see below. Note that lists are kind of weird, in that the first index is actually position zero."
   ]
  },
  {
   "cell_type": "code",
   "execution_count": 8,
   "metadata": {},
   "outputs": [
    {
     "name": "stdout",
     "output_type": "stream",
     "text": [
      "info[0]: dog\n",
      "info[0], changed: cat\n",
      "info: ['cat', 'rat', 'goose']\n",
      "info: ['cat', 'rat', 'goose', 'badger']\n"
     ]
    }
   ],
   "source": [
    "# We create the list here, starting with your first and last name in the\n",
    "# first two positions. Notice how we can use values and variables\n",
    "# interchangeably.\n",
    "info = [\"dog\", \"rat\", \"goose\"]\n",
    "\n",
    "# We print out the first value of the list, by indexing into position zero\n",
    "print(\"info[0]: \" + info[0])\n",
    "\n",
    "# We can also change the value at a particular index in the list. Try\n",
    "# replacing dog with cat.\n",
    "info[0] = #TODO: replace_this\n",
    "\n",
    "# Notice how the value at info[0] changed?\n",
    "print(\"info[0], changed: \" + info[0])\n",
    "\n",
    "# We can also just print out the whole list!\n",
    "print(\"info:\", info)\n",
    "\n",
    "# We can even add badger!\n",
    "info = info + [\"badger\"]\n",
    "\n",
    "print(\"info:\", info)"
   ]
  },
  {
   "cell_type": "markdown",
   "metadata": {},
   "source": [
    "Lists are super useful in many different situations. In the next step we will use them to hold our questions. Dictionaries are like lists, but without an order (so no indicies). Instead, they work like a regular dictionary. Each entry is a key value pair like (\"hello\", \"world\"). Let's try it out."
   ]
  },
  {
   "cell_type": "code",
   "execution_count": 15,
   "metadata": {},
   "outputs": [
    {
     "name": "stdout",
     "output_type": "stream",
     "text": [
      "entry\n",
      "world\n"
     ]
    }
   ],
   "source": [
    "#Creating a dictionary with 1 entry\n",
    "dictionary = {\"hello\": \"world\"}\n",
    "\n",
    "#Adding a new entry with \"new\" as the key and \"entry\" as the value\n",
    "dictionary[\"new\"] = \"entry\"\n",
    "\n",
    "#Now we can retrieve things based off of their key\n",
    "print(dictionary[\"new\"])\n",
    "\n",
    "#TODO: change the value of \"hello\" to something else.\n",
    "\n",
    "print(dictionary[\"hello\"])\n"
   ]
  },
  {
   "cell_type": "markdown",
   "metadata": {},
   "source": [
    "## Step 3: Build the infastructure!\n",
    "Combining what we know about inputs, lists, and dictionaries, we can start building our quiz! First, we need to define our catagories."
   ]
  },
  {
   "cell_type": "code",
   "execution_count": 18,
   "metadata": {},
   "outputs": [],
   "source": [
    "#TODO:Give name to your quiz\n",
    "quiz_name = \"\"\n",
    "\n",
    "#TODO: Define your catagories Ex. Harry, Dumbledoor, etc.\n",
    "catagory_1 = \"\"\n",
    "catagory_2 = \"\"\n",
    "catagory_3 = \"\"\n",
    "catagory_4 = \"\"\n",
    "\n",
    "#TODO: add these category names to a new list for later use\n"
   ]
  },
  {
   "cell_type": "markdown",
   "metadata": {},
   "source": [
    "Now we need a way to store the points for each possible catagory. How can we use a dictionary to do this? Each category should have 0 points to start with."
   ]
  },
  {
   "cell_type": "code",
   "execution_count": 16,
   "metadata": {},
   "outputs": [],
   "source": [
    "#Creating an empty dictionary\n",
    "points_dictionary = {}\n",
    "#TODO: make entries for each category in this dictionary\n"
   ]
  },
  {
   "cell_type": "markdown",
   "metadata": {},
   "source": [
    "Now, let's create a function to update the points for each category. \n",
    "\n",
    "Functions allow you to write a section of code once and easily reuse it elsewhere in your program. Here's an example:"
   ]
  },
  {
   "cell_type": "code",
   "execution_count": 18,
   "metadata": {},
   "outputs": [
    {
     "name": "stdout",
     "output_type": "stream",
     "text": [
      "['cat', 'rat', 'goose', 'badger', 'bird', 'bird']\n"
     ]
    }
   ],
   "source": [
    "#This function adds something to our info list twice and prints the list\n",
    "def add_to_info_print(new_thing):\n",
    "    #append just adds something to the end of the list\n",
    "    info.append(new_thing)\n",
    "    info.append(new_thing)\n",
    "    print(info)\n",
    "    \n",
    "add_to_info_print(\"bird\")"
   ]
  },
  {
   "cell_type": "code",
   "execution_count": 21,
   "metadata": {},
   "outputs": [
    {
     "ename": "SyntaxError",
     "evalue": "unexpected EOF while parsing (<ipython-input-21-22d9b71be804>, line 3)",
     "output_type": "error",
     "traceback": [
      "\u001b[1;36m  File \u001b[1;32m\"<ipython-input-21-22d9b71be804>\"\u001b[1;36m, line \u001b[1;32m3\u001b[0m\n\u001b[1;33m    \u001b[0m\n\u001b[1;37m    ^\u001b[0m\n\u001b[1;31mSyntaxError\u001b[0m\u001b[1;31m:\u001b[0m unexpected EOF while parsing\n"
     ]
    }
   ],
   "source": [
    "#TODO: implement update_points to add points (a number) to points_dictionary based off of the category given\n",
    "def update_points(points, category):\n",
    "    "
   ]
  },
  {
   "cell_type": "markdown",
   "metadata": {},
   "source": [
    "## Step 4: Build a Question Bank\n",
    "Since we will go through the questions one at a time, we should keep them all in a list. A question has two parts. One is the question itself, two is the possible answers. We can store this as a tuple (like a list, but you can't change their values after creation). Using a string as the first element and an array of possible answers as the second. We're putting a list inside of a tuple inside of a list! In python, lists don't care what is inside of them which is pretty cool!"
   ]
  },
  {
   "cell_type": "code",
   "execution_count": 23,
   "metadata": {},
   "outputs": [],
   "source": [
    "question_bank = []\n",
    "\n",
    "#TODO: add your questions with answers using the template. Feel free to add more if you have the time later\n",
    "#For simplicity, let answer1 correspond to category1, answer2 for category2, etc.\n",
    "question_1 = (\"Question?\", [\"answer1\", \"answer2\", \"answer3\", \"answer4\"])\n",
    "question_2 = (\"Question?\", [\"answer1\", \"answer2\", \"answer3\", \"answer4\"])\n",
    "question_3 = (\"Question?\", [\"answer1\", \"answer2\", \"answer3\", \"answer4\"])\n",
    "question_4 = (\"Question?\", [\"answer1\", \"answer2\", \"answer3\", \"answer4\"])\n",
    "question_5 = (\"Question?\", [\"answer1\", \"answer2\", \"answer3\", \"answer4\"])\n",
    "question_6 = (\"Question?\", [\"answer1\", \"answer2\", \"answer3\", \"answer4\"])\n",
    "\n",
    "#TODO: now add them to question_bank. Hint: how did we add things to info in a function?"
   ]
  },
  {
   "cell_type": "markdown",
   "metadata": {},
   "source": [
    "## Step 4: Putting it all together"
   ]
  },
  {
   "cell_type": "markdown",
   "metadata": {},
   "source": [
    "Alright! Now we have our questions and our points dictionary. We have to figure out how to translate user's answers into the categories so we know which one to add points to. We could use... another dictionary! Creating this dictionary one element at a time would take a while, so let's use a for loop."
   ]
  },
  {
   "cell_type": "markdown",
   "metadata": {},
   "source": [
    "For loops are another essential part of coding. They do something multiple times. Here's a few examples:"
   ]
  },
  {
   "cell_type": "code",
   "execution_count": 27,
   "metadata": {},
   "outputs": [
    {
     "name": "stdout",
     "output_type": "stream",
     "text": [
      "0\n",
      "1\n",
      "cat\n",
      "rat\n",
      "goose\n",
      "badger\n",
      "bird\n",
      "bird\n",
      "0 0\n",
      "0 1\n",
      "1 0\n",
      "1 1\n",
      "2 0\n",
      "2 1\n"
     ]
    }
   ],
   "source": [
    "#i starts at 0 and goes up to 2, but not including it\n",
    "for i in range(2):\n",
    "    print(i)\n",
    "\n",
    "#For loops can also loop through lists. the thing variable represents each element in the list and changes each time we loop\n",
    "for thing in info:\n",
    "    print(thing)\n",
    "\n",
    "#This is called a nested for loop. It starts with i=0, then loops through j. When the inside one is finished, i increments\n",
    "for i in range(3):\n",
    "    for j in range(2):\n",
    "        print(i, j)"
   ]
  },
  {
   "cell_type": "markdown",
   "metadata": {},
   "source": [
    "Now let's use for loops to create our dictionary. We are trying to loop through our questions and our answers. What should we be using for the key value pairs? Hint: what are we putting in and what do we want to get out? You'll probably want to use a nested for loop."
   ]
  },
  {
   "cell_type": "code",
   "execution_count": null,
   "metadata": {},
   "outputs": [],
   "source": [
    "#TODO: Create a new dictionary that links answers to categories. Fill in the blanks\n",
    "ans_to_cat = {}\n",
    "for _____ in _____:\n",
    "    for i in range(4):\n",
    "        ans_to_cat[_____[2][_]] = _____"
   ]
  },
  {
   "cell_type": "code",
   "execution_count": 28,
   "metadata": {},
   "outputs": [],
   "source": [
    "#TODO: print out some text welcoming the user to the game and its name\n"
   ]
  },
  {
   "cell_type": "code",
   "execution_count": 32,
   "metadata": {},
   "outputs": [
    {
     "ename": "TypeError",
     "evalue": "can only concatenate str (not \"list\") to str",
     "output_type": "error",
     "traceback": [
      "\u001b[1;31m---------------------------------------------------------------------------\u001b[0m",
      "\u001b[1;31mTypeError\u001b[0m                                 Traceback (most recent call last)",
      "\u001b[1;32m<ipython-input-32-cfdf287147cb>\u001b[0m in \u001b[0;36m<module>\u001b[1;34m\u001b[0m\n\u001b[0;32m      2\u001b[0m \u001b[1;31m#part 3 to update the points dictionary based on the user inputs.\u001b[0m\u001b[1;33m\u001b[0m\u001b[1;33m\u001b[0m\u001b[1;33m\u001b[0m\u001b[0m\n\u001b[0;32m      3\u001b[0m \u001b[1;32mfor\u001b[0m \u001b[0mquestion\u001b[0m \u001b[1;32min\u001b[0m \u001b[0mquestion_bank\u001b[0m\u001b[1;33m:\u001b[0m\u001b[1;33m\u001b[0m\u001b[1;33m\u001b[0m\u001b[0m\n\u001b[1;32m----> 4\u001b[1;33m     \u001b[0muser_answer\u001b[0m \u001b[1;33m=\u001b[0m \u001b[0minput\u001b[0m\u001b[1;33m(\u001b[0m\u001b[0mquestion\u001b[0m\u001b[1;33m[\u001b[0m\u001b[1;36m0\u001b[0m\u001b[1;33m]\u001b[0m \u001b[1;33m+\u001b[0m \u001b[0mquestion\u001b[0m\u001b[1;33m[\u001b[0m\u001b[1;36m1\u001b[0m\u001b[1;33m]\u001b[0m\u001b[1;33m)\u001b[0m\u001b[1;33m\u001b[0m\u001b[1;33m\u001b[0m\u001b[0m\n\u001b[0m",
      "\u001b[1;31mTypeError\u001b[0m: can only concatenate str (not \"list\") to str"
     ]
    }
   ],
   "source": [
    "#TODO: Now loop through the questions, and use our function from \n",
    "#part 3 to update the points dictionary based on the user inputs. \n",
    "for question in question_bank:\n",
    "    user_answer = input(question[0] + question[1])"
   ]
  },
  {
   "cell_type": "markdown",
   "metadata": {},
   "source": [
    "Tell the user what catagory they belong to! Hint: make sure the values in the dictionary are integers and use the max function"
   ]
  },
  {
   "cell_type": "code",
   "execution_count": 24,
   "metadata": {},
   "outputs": [],
   "source": [
    "#TODO tell user what catagory they belong to"
   ]
  },
  {
   "cell_type": "code",
   "execution_count": null,
   "metadata": {},
   "outputs": [],
   "source": [
    "#Ideas: \n",
    "#create a special category that is only chosen when certain answers are chosen\n",
    "#create dictionary so answering with name maps to category\n",
    "#add a choose your adventure type text game with the same implementation (less help)"
   ]
  }
 ],
 "metadata": {
  "kernelspec": {
   "display_name": "Python 3",
   "language": "python",
   "name": "python3"
  },
  "language_info": {
   "codemirror_mode": {
    "name": "ipython",
    "version": 3
   },
   "file_extension": ".py",
   "mimetype": "text/x-python",
   "name": "python",
   "nbconvert_exporter": "python",
   "pygments_lexer": "ipython3",
   "version": "3.7.3"
  }
 },
 "nbformat": 4,
 "nbformat_minor": 2
}
