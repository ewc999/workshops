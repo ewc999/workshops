{
 "cells": [
  {
   "cell_type": "markdown",
   "metadata": {},
   "source": [
    "# Buzzfeed Quiz Design\n",
    "We are going to build a buzzfeed quiz: https://www.buzzfeed.com/quizzes where a user answers a series of questions to place them in one of four catagories\n",
    "\n",
    "The way the buzzfeed quizes works is simple. Let's use the example of the Quiz _Which Harry Potter Character are You_. There is some number of possible catagories for the user to \"be\", like Harry, Ron, Hermone, or Hagrid.\n",
    "\n",
    "With each question asked, there is one point added to one of the catagories depending on the users answer. For example, if the question was which is your favorite animal, and the user selected rat, that would be a point for Ron.\n"
   ]
  },
  {
   "cell_type": "markdown",
   "metadata": {},
   "source": [
    "## Step 1: Get user input\n",
    "Getting user input is key for this game. How else will we be able to get them to answer their questions? \n",
    "`input()` is the python function that allows us to get input.\n",
    "Let's see it in action below."
   ]
  },
  {
   "cell_type": "code",
   "execution_count": 14,
   "metadata": {},
   "outputs": [
    {
     "name": "stdout",
     "output_type": "stream",
     "text": [
      "Tell me how many dogs you have? \n",
      "You have  dogs\n"
     ]
    }
   ],
   "source": [
    "user_input = input(\"Tell me how many dogs you have? \")\n",
    "print(\"You have\", user_input, \"dogs\")"
   ]
  },
  {
   "cell_type": "markdown",
   "metadata": {},
   "source": [
    "Now we can get the user input with a dummy question."
   ]
  },
  {
   "cell_type": "code",
   "execution_count": 17,
   "metadata": {},
   "outputs": [
    {
     "name": "stdout",
     "output_type": "stream",
     "text": [
      "What is your favorite animal: 1 – Dog, 2 – Rat, 3 – Goose, 4 – Badger 1\n",
      "You selected option 1\n"
     ]
    }
   ],
   "source": [
    "user_input = input(\"What is your favorite animal: 1 – Dog, 2 – Rat, 3 – Goose, 4 – Badger \")\n",
    "option_selected = int(user_input)\n",
    "print(\"You selected option\", option_selected)"
   ]
  },
  {
   "cell_type": "markdown",
   "metadata": {},
   "source": [
    "## Step 2: Build the infastructure!\n",
    "Now we know how to get user input, we need to acutally build the infrustucture for this game to work.\n",
    "\n",
    "So how do we get this to code. First, we need to define our catagories. For this, we will use strings."
   ]
  },
  {
   "cell_type": "code",
   "execution_count": 18,
   "metadata": {},
   "outputs": [],
   "source": [
    "#TODO:Give name to your quiz\n",
    "quiz_name = \"\"\n",
    "\n",
    "#TODO: Define your catagories\n",
    "catagory_1 = \"\"\n",
    "catagory_2 = \"\"\n",
    "catagory_3 = \"\"\n",
    "catagory_4 = \"\""
   ]
  },
  {
   "cell_type": "markdown",
   "metadata": {},
   "source": [
    "Now we need a way to store the points for each possible catagory. To do this we will use a dictionary."
   ]
  },
  {
   "cell_type": "code",
   "execution_count": 19,
   "metadata": {},
   "outputs": [],
   "source": [
    "points = {}\n",
    "points[catagory_1] = 0\n",
    "points[catagory_2] = 0\n",
    "points[catagory_3] = 0\n",
    "points[catagory_4] = 0"
   ]
  },
  {
   "cell_type": "markdown",
   "metadata": {},
   "source": [
    "Now, let's create a function to help us take in an answer. I'll leave it up to you to implement."
   ]
  },
  {
   "cell_type": "code",
   "execution_count": 20,
   "metadata": {},
   "outputs": [
    {
     "ename": "SyntaxError",
     "evalue": "unexpected EOF while parsing (<ipython-input-20-5273c9c27309>, line 2)",
     "output_type": "error",
     "traceback": [
      "\u001b[0;36m  File \u001b[0;32m\"<ipython-input-20-5273c9c27309>\"\u001b[0;36m, line \u001b[0;32m2\u001b[0m\n\u001b[0;31m    ##TODO: implement update_points to update the points dictionary based of an string answer\u001b[0m\n\u001b[0m                                                                                             ^\u001b[0m\n\u001b[0;31mSyntaxError\u001b[0m\u001b[0;31m:\u001b[0m unexpected EOF while parsing\n"
     ]
    }
   ],
   "source": [
    "def update_points(points, answer):\n",
    "    ##TODO: implement update_points to update the points dictionary based of an string answer"
   ]
  },
  {
   "cell_type": "markdown",
   "metadata": {},
   "source": [
    "## Step 3: Build a Question Bank\n",
    " Since we will go through the questions one at a time, it makes to me to have the questions in a array. A question has two parts. One is the question itself, two is the possible answers. We can store this as a tuple of a string and array of possible answers. We can hardcode these questions. I made an example to show you the format, but please feel free"
   ]
  },
  {
   "cell_type": "code",
   "execution_count": 21,
   "metadata": {},
   "outputs": [],
   "source": [
    "question_bank = []\n",
    "\n",
    "#TODO: Delete this and add your onwn questions\n",
    "example_question = (\"What is your favorite animal\", [\"Dog\", \"Cat\", \"Cow\", \"Fish\"])\n",
    "question_bank.append(example_question)"
   ]
  },
  {
   "cell_type": "markdown",
   "metadata": {},
   "source": [
    "## Step 4: Put it all together"
   ]
  },
  {
   "cell_type": "code",
   "execution_count": 22,
   "metadata": {},
   "outputs": [],
   "source": [
    "#TODO print out some text welcoming the user to the game"
   ]
  },
  {
   "cell_type": "markdown",
   "metadata": {},
   "source": [
    "Now loop through the questions, and using Step 1 and 2 update the points dictionary based on the user inputs. "
   ]
  },
  {
   "cell_type": "code",
   "execution_count": 23,
   "metadata": {},
   "outputs": [],
   "source": [
    "#TODO get answers from user"
   ]
  },
  {
   "cell_type": "markdown",
   "metadata": {},
   "source": [
    "Tell the user what catagory they belong to! Hint: make sure the values in the dictionary are integers and use the max function"
   ]
  },
  {
   "cell_type": "code",
   "execution_count": 24,
   "metadata": {},
   "outputs": [],
   "source": [
    "#TODO tell user what catagory they belong to"
   ]
  },
  {
   "cell_type": "code",
   "execution_count": null,
   "metadata": {},
   "outputs": [],
   "source": []
  }
 ],
 "metadata": {
  "kernelspec": {
   "display_name": "Python 3",
   "language": "python",
   "name": "python3"
  }
 },
 "nbformat": 4,
 "nbformat_minor": 2
}
